{
 "cells": [
  {
   "cell_type": "code",
   "execution_count": 3,
   "metadata": {},
   "outputs": [],
   "source": [
    "import warnings\n",
    "warnings.filterwarnings('ignore')\n",
    "#%matplotlib inline\n",
    "import numpy as np\n",
    "import pandas as pd"
   ]
  },
  {
   "cell_type": "code",
   "execution_count": 4,
   "metadata": {},
   "outputs": [
    {
     "data": {
      "text/plain": [
       "(1415133, 11)"
      ]
     },
     "execution_count": 4,
     "metadata": {},
     "output_type": "execute_result"
    }
   ],
   "source": [
    "##################  Загрузка данных\n",
    "Data1 = pd.read_csv('D:\\Coding\\data\\phone_user_review_file_1.csv', encoding= 'ANSI')\n",
    "Data2 = pd.read_csv('D:\\Coding\\data\\phone_user_review_file_2.csv', encoding= 'ANSI')\n",
    "Data3 = pd.read_csv('D:\\Coding\\data\\phone_user_review_file_3.csv', encoding= 'ANSI')\n",
    "Data4 = pd.read_csv('D:\\Coding\\data\\phone_user_review_file_4.csv', encoding= 'ANSI')\n",
    "Data5 = pd.read_csv('D:\\Coding\\data\\phone_user_review_file_5.csv', encoding= 'ANSI')\n",
    "Data6 = pd.read_csv('D:\\Coding\\data\\phone_user_review_file_6.csv', encoding= 'ANSI')\n",
    "\n",
    "total_data = pd.concat([Data1,Data2, Data3, Data4, Data5, Data6], axis=0)\n",
    "total_data.shape"
   ]
  },
  {
   "cell_type": "code",
   "execution_count": 5,
   "metadata": {},
   "outputs": [
    {
     "data": {
      "text/html": [
       "<div>\n",
       "<style scoped>\n",
       "    .dataframe tbody tr th:only-of-type {\n",
       "        vertical-align: middle;\n",
       "    }\n",
       "\n",
       "    .dataframe tbody tr th {\n",
       "        vertical-align: top;\n",
       "    }\n",
       "\n",
       "    .dataframe thead th {\n",
       "        text-align: right;\n",
       "    }\n",
       "</style>\n",
       "<table border=\"1\" class=\"dataframe\">\n",
       "  <thead>\n",
       "    <tr style=\"text-align: right;\">\n",
       "      <th></th>\n",
       "      <th>lang</th>\n",
       "      <th>score</th>\n",
       "      <th>extract</th>\n",
       "    </tr>\n",
       "  </thead>\n",
       "  <tbody>\n",
       "    <tr>\n",
       "      <th>0</th>\n",
       "      <td>en</td>\n",
       "      <td>10.0</td>\n",
       "      <td>As a diehard Samsung fan who has had every Sam...</td>\n",
       "    </tr>\n",
       "    <tr>\n",
       "      <th>1</th>\n",
       "      <td>en</td>\n",
       "      <td>10.0</td>\n",
       "      <td>Love the phone. the phone is sleek and smooth ...</td>\n",
       "    </tr>\n",
       "    <tr>\n",
       "      <th>2</th>\n",
       "      <td>en</td>\n",
       "      <td>6.0</td>\n",
       "      <td>Adequate feel. Nice heft. Processor's still sl...</td>\n",
       "    </tr>\n",
       "    <tr>\n",
       "      <th>3</th>\n",
       "      <td>en</td>\n",
       "      <td>9.2</td>\n",
       "      <td>Never disappointed. One of the reasons I've be...</td>\n",
       "    </tr>\n",
       "    <tr>\n",
       "      <th>4</th>\n",
       "      <td>en</td>\n",
       "      <td>4.0</td>\n",
       "      <td>I've now found that i'm in a group of people t...</td>\n",
       "    </tr>\n",
       "  </tbody>\n",
       "</table>\n",
       "</div>"
      ],
      "text/plain": [
       "  lang  score                                            extract\n",
       "0   en   10.0  As a diehard Samsung fan who has had every Sam...\n",
       "1   en   10.0  Love the phone. the phone is sleek and smooth ...\n",
       "2   en    6.0  Adequate feel. Nice heft. Processor's still sl...\n",
       "3   en    9.2  Never disappointed. One of the reasons I've be...\n",
       "4   en    4.0  I've now found that i'm in a group of people t..."
      ]
     },
     "execution_count": 5,
     "metadata": {},
     "output_type": "execute_result"
    }
   ],
   "source": [
    "total_data[['lang', 'score', 'extract']].head()"
   ]
  },
  {
   "cell_type": "code",
   "execution_count": 6,
   "metadata": {},
   "outputs": [],
   "source": [
    "##################  Препроцессинг"
   ]
  },
  {
   "cell_type": "code",
   "execution_count": 7,
   "metadata": {},
   "outputs": [
    {
     "name": "stderr",
     "output_type": "stream",
     "text": [
      "[nltk_data] Downloading package stopwords to\n",
      "[nltk_data]     C:\\Users\\Алексей\\AppData\\Roaming\\nltk_data...\n",
      "[nltk_data]   Package stopwords is already up-to-date!\n"
     ]
    }
   ],
   "source": [
    "import nltk\n",
    "nltk.download('stopwords')\n",
    "from sklearn.metrics import mean_squared_error\n",
    "import re #regular expressions\n",
    "from nltk.corpus import stopwords #stopwords\n",
    "\n",
    "import pymorphy2 #Для лемматизации\n",
    "morph = pymorphy2.MorphAnalyzer()\n",
    "\n",
    "#Добавление списка stopwords\n",
    "stops = set(stopwords.words(\"english\"))"
   ]
  },
  {
   "cell_type": "code",
   "execution_count": 8,
   "metadata": {},
   "outputs": [],
   "source": [
    "def review_to_wordlist(review):\n",
    "    #1) - регулярное выражение к тексту\n",
    "    review_text = re.sub(\"[^а-яА-Яa-zA-Z]\",\" \", review)\n",
    "    #2) - разделение текста на список слов\n",
    "    words = review_text.lower().split()\n",
    "    #3) - удаление stopwords из списка слов\n",
    "    words = [w for w in words if not w in stops]\n",
    "    #4) - лемматизация слов\n",
    "    #words = [morph.parse(w)[0].normal_form for w in words ]\n",
    "    return(words)"
   ]
  },
  {
   "cell_type": "code",
   "execution_count": 9,
   "metadata": {},
   "outputs": [],
   "source": [
    "# Преобразуем время\n",
    "# Разделение времени на год и месяц\n",
    "total_data['date'] = total_data['date'].apply(pd.to_datetime)\n",
    "total_data['year'] = total_data['date'].apply(lambda x: x.year)\n",
    "#total_data['month'] = total_data['date'].apply(lambda x: x.month)"
   ]
  },
  {
   "cell_type": "code",
   "execution_count": 13,
   "metadata": {},
   "outputs": [],
   "source": [
    "#Валидация на 2016 годе\n",
    "Xtr = total_data[(total_data['year']<=2015) & (total_data.lang == 'en')].dropna()\n",
    "Xval = total_data[(total_data['year']>2015) & (total_data.lang == 'en')].dropna()\n",
    "#score - оценка телефона\n",
    "ytr = Xtr['score']\n",
    "yval = Xval['score']"
   ]
  },
  {
   "cell_type": "code",
   "execution_count": 15,
   "metadata": {},
   "outputs": [
    {
     "name": "stdout",
     "output_type": "stream",
     "text": [
      "Xtr.shape():  (416847, 13) \n",
      "Xval.shape():  (126352, 13) \n",
      "ytr.mean():  7.578514898751821 \n",
      "yval.mean():  8.04560513486134\n"
     ]
    }
   ],
   "source": [
    "print(\"Xtr.shape(): \", Xtr.shape,\n",
    "      \"\\nXval.shape(): \", Xval.shape,\n",
    "      \"\\nytr.mean(): \", ytr.mean(),\n",
    "      \"\\nyval.mean(): \", yval.mean()\n",
    "      )"
   ]
  },
  {
   "cell_type": "code",
   "execution_count": 16,
   "metadata": {},
   "outputs": [],
   "source": [
    "data = pd.concat([Xtr,Xval],axis = 0,ignore_index = True)\n",
    "\n",
    "#у нас есть nan, поэтому преобразуем их к строке\n",
    "data['content_clear'] = data['extract'].apply(str)\n",
    "data['content_clear'] = data['content_clear'].apply(review_to_wordlist)"
   ]
  },
  {
   "cell_type": "code",
   "execution_count": 17,
   "metadata": {},
   "outputs": [
    {
     "name": "stdout",
     "output_type": "stream",
     "text": [
      "1-й комментрий: \n",
      "data['content_clear'][0]:  ['nice', 'gold', 'premium', 'looking', 'phone', 'using', 'last', 'months', 'noticed', 'hard', 'hold', 'use', 'due', 'double', 'edges', 'holding', 'phone', 'edges', 'sensitive', 'touch']\n"
     ]
    }
   ],
   "source": [
    "print(\"1-й комментрий: \\ndata['content_clear'][0]: \", data['content_clear'][0])"
   ]
  },
  {
   "cell_type": "markdown",
   "metadata": {},
   "source": [
    "############## Word2vec ##############"
   ]
  },
  {
   "cell_type": "code",
   "execution_count": 18,
   "metadata": {},
   "outputs": [
    {
     "name": "stdout",
     "output_type": "stream",
     "text": [
      "Done!\n"
     ]
    }
   ],
   "source": [
    "import gensim\n",
    "from gensim.models import word2vec\n",
    "from multiprocessing import cpu_count\n",
    "\n",
    "######## Тренировка модели\n",
    "# size - размер вектора\n",
    "#min_count - игнорирует все слова с total frequency меньше заданного значения\n",
    "#workers - количество ядер PC\n",
    "#window - максимальная дистанция между текущем словом и прогнозируемом в предложении\n",
    "\n",
    "#model_w2v = word2vec.Word2Vec(data['content_clear'], size=50, window=10, workers=cpu_count())\n",
    "\n",
    "\n",
    "######## Скачивание готовой натренированной модели \n",
    "model_w2v = gensim.models.KeyedVectors.load_word2vec_format('D:\\Coding\\Word2vec\\GoogleNews-vectors-negative300.bin\\GoogleNews-vectors-negative300.bin', binary=True)\n",
    "w2v = dict(zip(model_w2v.wv.index2word, model_w2v.wv.syn0))\n",
    "\n",
    "print(\"Done!\")"
   ]
  },
  {
   "cell_type": "code",
   "execution_count": 15,
   "metadata": {},
   "outputs": [
    {
     "data": {
      "text/plain": [
       "[('telephone', 0.8224020600318909),\n",
       " ('cell_phone', 0.7831966876983643),\n",
       " ('cellphone', 0.7629485130310059),\n",
       " ('Phone', 0.7060797810554504),\n",
       " ('phones', 0.6894922256469727),\n",
       " ('landline', 0.6263927221298218),\n",
       " ('voicemail', 0.6252243518829346),\n",
       " ('caller_id', 0.6023745536804199),\n",
       " ('RingCentral_cloud_computing', 0.5935890674591064),\n",
       " ('telephones', 0.5929964780807495)]"
      ]
     },
     "execution_count": 15,
     "metadata": {},
     "output_type": "execute_result"
    }
   ],
   "source": [
    "# Посмотрим чему выучилась модель:\n",
    "#model_w2v.wv.most_similar(positive=['phone'])"
   ]
  },
  {
   "cell_type": "markdown",
   "metadata": {},
   "source": [
    "############## mean_vectorizer ##############"
   ]
  },
  {
   "cell_type": "code",
   "execution_count": 19,
   "metadata": {},
   "outputs": [],
   "source": [
    "class mean_vectorizer(object):\n",
    "    def __init__(self, word2vec):\n",
    "        self.word2vec = word2vec\n",
    "        self.dim = len(next(iter(w2v.values())))\n",
    "\n",
    "    def fit(self, X):\n",
    "        return self\n",
    "\n",
    "    def transform(self, X):\n",
    "        return np.array([\n",
    "            np.mean([self.word2vec[w] for w in words if w in self.word2vec]\n",
    "                    or [np.zeros(self.dim)], axis=0)\n",
    "            for words in X\n",
    "        ])"
   ]
  },
  {
   "cell_type": "code",
   "execution_count": 20,
   "metadata": {},
   "outputs": [
    {
     "data": {
      "text/plain": [
       "(543199, 300)"
      ]
     },
     "execution_count": 20,
     "metadata": {},
     "output_type": "execute_result"
    }
   ],
   "source": [
    "data_mean = mean_vectorizer(w2v).fit(data['content_clear']).transform(data['content_clear'])\n",
    "data_mean.shape"
   ]
  },
  {
   "cell_type": "code",
   "execution_count": 21,
   "metadata": {},
   "outputs": [],
   "source": [
    "def split(train,y,ratio):\n",
    "    idx = ratio\n",
    "    return train[:idx, :], train[idx:, :], y[:idx], y[idx:]\n",
    "y = data['score']\n",
    "Xtr, Xval, ytr, yval = split(data_mean, y, 416847)"
   ]
  },
  {
   "cell_type": "code",
   "execution_count": 22,
   "metadata": {},
   "outputs": [
    {
     "name": "stdout",
     "output_type": "stream",
     "text": [
      "Xtr.shape():  (416847, 300) \n",
      "Xval.shape():  (126352, 300) \n",
      "ytr.mean():  7.578514898751821 \n",
      "yval.mean():  8.04560513486134\n"
     ]
    }
   ],
   "source": [
    "print(\"Xtr.shape(): \", Xtr.shape,\n",
    "      \"\\nXval.shape(): \", Xval.shape,\n",
    "      \"\\nytr.mean(): \", ytr.mean(),\n",
    "      \"\\nyval.mean(): \", yval.mean()\n",
    "      )"
   ]
  },
  {
   "cell_type": "code",
   "execution_count": 23,
   "metadata": {},
   "outputs": [
    {
     "data": {
      "image/png": "[encoded data removed]",
      "text/plain": [
       "<Figure size 432x288 with 1 Axes>"
      ]
     },
     "metadata": {
      "needs_background": "light"
     },
     "output_type": "display_data"
    }
   ],
   "source": [
    "import seaborn as sns\n",
    "import matplotlib.pyplot as plt\n",
    "\n",
    "plt.figure(figsize=(6, 4))\n",
    "sns.distplot(ytr)\n",
    "\n",
    "plt.show()"
   ]
  },
  {
   "cell_type": "markdown",
   "metadata": {},
   "source": [
    "############## Random Forest ##############"
   ]
  },
  {
   "cell_type": "code",
   "execution_count": 24,
   "metadata": {},
   "outputs": [],
   "source": [
    "from sklearn.ensemble import RandomForestClassifier\n",
    "\n",
    "#Random Forest классификатор\n",
    "clf_rf = RandomForestClassifier()\n",
    "\n"
   ]
  },
  {
   "cell_type": "code",
   "execution_count": 25,
   "metadata": {},
   "outputs": [
    {
     "data": {
      "text/plain": [
       "0     7.0\n",
       "1    10.0\n",
       "2     9.2\n",
       "3     9.6\n",
       "4     8.8\n",
       "5    10.0\n",
       "6    10.0\n",
       "7    10.0\n",
       "8     8.4\n",
       "9     9.2\n",
       "Name: score, dtype: float64"
      ]
     },
     "execution_count": 25,
     "metadata": {},
     "output_type": "execute_result"
    }
   ],
   "source": [
    "ytr[:10]"
   ]
  },
  {
   "cell_type": "code",
   "execution_count": 26,
   "metadata": {},
   "outputs": [
    {
     "data": {
      "text/plain": [
       "'multiclass'"
      ]
     },
     "execution_count": 26,
     "metadata": {},
     "output_type": "execute_result"
    }
   ],
   "source": [
    "from sklearn import utils\n",
    "ytr1 = ytr.astype('int')\n",
    "yval1 = yval.astype('int')\n",
    "utils.multiclass.type_of_target(ytr1)"
   ]
  },
  {
   "cell_type": "code",
   "execution_count": 27,
   "metadata": {},
   "outputs": [
    {
     "data": {
      "text/plain": [
       "0     7\n",
       "1    10\n",
       "2     9\n",
       "3     9\n",
       "4     8\n",
       "5    10\n",
       "6    10\n",
       "7    10\n",
       "8     8\n",
       "9     9\n",
       "Name: score, dtype: int32"
      ]
     },
     "execution_count": 27,
     "metadata": {},
     "output_type": "execute_result"
    }
   ],
   "source": [
    "ytr1[:10]"
   ]
  },
  {
   "cell_type": "code",
   "execution_count": 28,
   "metadata": {},
   "outputs": [
    {
     "data": {
      "text/plain": [
       "RandomForestClassifier(bootstrap=True, ccp_alpha=0.0, class_weight=None,\n",
       "                       criterion='gini', max_depth=None, max_features='auto',\n",
       "                       max_leaf_nodes=None, max_samples=None,\n",
       "                       min_impurity_decrease=0.0, min_impurity_split=None,\n",
       "                       min_samples_leaf=1, min_samples_split=2,\n",
       "                       min_weight_fraction_leaf=0.0, n_estimators=100,\n",
       "                       n_jobs=None, oob_score=False, random_state=None,\n",
       "                       verbose=0, warm_start=False)"
      ]
     },
     "execution_count": 28,
     "metadata": {},
     "output_type": "execute_result"
    }
   ],
   "source": [
    "#классификатор \n",
    "clf_rf.fit(Xtr, ytr1)"
   ]
  },
  {
   "cell_type": "code",
   "execution_count": 29,
   "metadata": {},
   "outputs": [
    {
     "data": {
      "text/plain": [
       "array([ 7, 10,  9,  9,  8, 10, 10, 10,  8,  9])"
      ]
     },
     "execution_count": 29,
     "metadata": {},
     "output_type": "execute_result"
    }
   ],
   "source": [
    "y_pred=clf_rf.predict(Xtr)\n",
    "y_pred[:10]"
   ]
  },
  {
   "cell_type": "code",
   "execution_count": 30,
   "metadata": {},
   "outputs": [
    {
     "data": {
      "text/plain": [
       "array([10, 10, 10, 10, 10, 10, 10, 10, 10, 10])"
      ]
     },
     "execution_count": 30,
     "metadata": {},
     "output_type": "execute_result"
    }
   ],
   "source": [
    "y_pred_v=clf_rf.predict(Xval)\n",
    "y_pred_v[:10]"
   ]
  },
  {
   "cell_type": "code",
   "execution_count": 31,
   "metadata": {},
   "outputs": [
    {
     "data": {
      "text/html": [
       "<div>\n",
       "<style scoped>\n",
       "    .dataframe tbody tr th:only-of-type {\n",
       "        vertical-align: middle;\n",
       "    }\n",
       "\n",
       "    .dataframe tbody tr th {\n",
       "        vertical-align: top;\n",
       "    }\n",
       "\n",
       "    .dataframe thead th {\n",
       "        text-align: right;\n",
       "    }\n",
       "</style>\n",
       "<table border=\"1\" class=\"dataframe\">\n",
       "  <thead>\n",
       "    <tr style=\"text-align: right;\">\n",
       "      <th></th>\n",
       "      <th>y_pred_v</th>\n",
       "      <th>yval</th>\n",
       "    </tr>\n",
       "  </thead>\n",
       "  <tbody>\n",
       "    <tr>\n",
       "      <th>0</th>\n",
       "      <td>10</td>\n",
       "      <td>10.0</td>\n",
       "    </tr>\n",
       "    <tr>\n",
       "      <th>1</th>\n",
       "      <td>10</td>\n",
       "      <td>10.0</td>\n",
       "    </tr>\n",
       "    <tr>\n",
       "      <th>2</th>\n",
       "      <td>10</td>\n",
       "      <td>6.0</td>\n",
       "    </tr>\n",
       "    <tr>\n",
       "      <th>3</th>\n",
       "      <td>10</td>\n",
       "      <td>9.2</td>\n",
       "    </tr>\n",
       "    <tr>\n",
       "      <th>4</th>\n",
       "      <td>10</td>\n",
       "      <td>4.0</td>\n",
       "    </tr>\n",
       "    <tr>\n",
       "      <th>5</th>\n",
       "      <td>10</td>\n",
       "      <td>10.0</td>\n",
       "    </tr>\n",
       "    <tr>\n",
       "      <th>6</th>\n",
       "      <td>10</td>\n",
       "      <td>4.0</td>\n",
       "    </tr>\n",
       "    <tr>\n",
       "      <th>7</th>\n",
       "      <td>10</td>\n",
       "      <td>6.0</td>\n",
       "    </tr>\n",
       "    <tr>\n",
       "      <th>8</th>\n",
       "      <td>10</td>\n",
       "      <td>6.0</td>\n",
       "    </tr>\n",
       "    <tr>\n",
       "      <th>9</th>\n",
       "      <td>10</td>\n",
       "      <td>8.0</td>\n",
       "    </tr>\n",
       "    <tr>\n",
       "      <th>10</th>\n",
       "      <td>10</td>\n",
       "      <td>10.0</td>\n",
       "    </tr>\n",
       "    <tr>\n",
       "      <th>11</th>\n",
       "      <td>10</td>\n",
       "      <td>10.0</td>\n",
       "    </tr>\n",
       "    <tr>\n",
       "      <th>12</th>\n",
       "      <td>10</td>\n",
       "      <td>10.0</td>\n",
       "    </tr>\n",
       "    <tr>\n",
       "      <th>13</th>\n",
       "      <td>8</td>\n",
       "      <td>6.0</td>\n",
       "    </tr>\n",
       "    <tr>\n",
       "      <th>14</th>\n",
       "      <td>2</td>\n",
       "      <td>10.0</td>\n",
       "    </tr>\n",
       "    <tr>\n",
       "      <th>15</th>\n",
       "      <td>10</td>\n",
       "      <td>10.0</td>\n",
       "    </tr>\n",
       "    <tr>\n",
       "      <th>16</th>\n",
       "      <td>2</td>\n",
       "      <td>8.0</td>\n",
       "    </tr>\n",
       "    <tr>\n",
       "      <th>17</th>\n",
       "      <td>10</td>\n",
       "      <td>10.0</td>\n",
       "    </tr>\n",
       "    <tr>\n",
       "      <th>18</th>\n",
       "      <td>10</td>\n",
       "      <td>10.0</td>\n",
       "    </tr>\n",
       "    <tr>\n",
       "      <th>19</th>\n",
       "      <td>10</td>\n",
       "      <td>8.0</td>\n",
       "    </tr>\n",
       "    <tr>\n",
       "      <th>20</th>\n",
       "      <td>10</td>\n",
       "      <td>10.0</td>\n",
       "    </tr>\n",
       "    <tr>\n",
       "      <th>21</th>\n",
       "      <td>10</td>\n",
       "      <td>8.0</td>\n",
       "    </tr>\n",
       "    <tr>\n",
       "      <th>22</th>\n",
       "      <td>10</td>\n",
       "      <td>10.0</td>\n",
       "    </tr>\n",
       "    <tr>\n",
       "      <th>23</th>\n",
       "      <td>10</td>\n",
       "      <td>10.0</td>\n",
       "    </tr>\n",
       "    <tr>\n",
       "      <th>24</th>\n",
       "      <td>10</td>\n",
       "      <td>10.0</td>\n",
       "    </tr>\n",
       "    <tr>\n",
       "      <th>25</th>\n",
       "      <td>10</td>\n",
       "      <td>2.0</td>\n",
       "    </tr>\n",
       "    <tr>\n",
       "      <th>26</th>\n",
       "      <td>10</td>\n",
       "      <td>6.0</td>\n",
       "    </tr>\n",
       "    <tr>\n",
       "      <th>27</th>\n",
       "      <td>10</td>\n",
       "      <td>4.0</td>\n",
       "    </tr>\n",
       "    <tr>\n",
       "      <th>28</th>\n",
       "      <td>10</td>\n",
       "      <td>10.0</td>\n",
       "    </tr>\n",
       "    <tr>\n",
       "      <th>29</th>\n",
       "      <td>2</td>\n",
       "      <td>2.0</td>\n",
       "    </tr>\n",
       "  </tbody>\n",
       "</table>\n",
       "</div>"
      ],
      "text/plain": [
       "    y_pred_v  yval\n",
       "0         10  10.0\n",
       "1         10  10.0\n",
       "2         10   6.0\n",
       "3         10   9.2\n",
       "4         10   4.0\n",
       "5         10  10.0\n",
       "6         10   4.0\n",
       "7         10   6.0\n",
       "8         10   6.0\n",
       "9         10   8.0\n",
       "10        10  10.0\n",
       "11        10  10.0\n",
       "12        10  10.0\n",
       "13         8   6.0\n",
       "14         2  10.0\n",
       "15        10  10.0\n",
       "16         2   8.0\n",
       "17        10  10.0\n",
       "18        10  10.0\n",
       "19        10   8.0\n",
       "20        10  10.0\n",
       "21        10   8.0\n",
       "22        10  10.0\n",
       "23        10  10.0\n",
       "24        10  10.0\n",
       "25        10   2.0\n",
       "26        10   6.0\n",
       "27        10   4.0\n",
       "28        10  10.0\n",
       "29         2   2.0"
      ]
     },
     "execution_count": 31,
     "metadata": {},
     "output_type": "execute_result"
    }
   ],
   "source": [
    "df = pd.DataFrame(list(zip(y_pred_v, yval)),\n",
    "                                 columns = ['y_pred_v', 'yval'])\n",
    "df.head(30)"
   ]
  },
  {
   "cell_type": "code",
   "execution_count": 32,
   "metadata": {},
   "outputs": [
    {
     "name": "stdout",
     "output_type": "stream",
     "text": [
      "0.9875589844715207\n"
     ]
    }
   ],
   "source": [
    "from sklearn.metrics import accuracy_score\n",
    "\n",
    "accuracy=accuracy_score(ytr1, y_pred)\n",
    "print(accuracy)"
   ]
  },
  {
   "cell_type": "code",
   "execution_count": 33,
   "metadata": {},
   "outputs": [
    {
     "name": "stdout",
     "output_type": "stream",
     "text": [
      "0.5624287704191465\n"
     ]
    }
   ],
   "source": [
    "accuracy=accuracy_score(yval1, y_pred_v)\n",
    "print(accuracy)"
   ]
  },
  {
   "cell_type": "code",
   "execution_count": 34,
   "metadata": {},
   "outputs": [
    {
     "name": "stdout",
     "output_type": "stream",
     "text": [
      "              precision    recall  f1-score   support\n",
      "\n",
      "           1       1.00      0.99      0.99      1595\n",
      "           2       0.99      0.99      0.99     60268\n",
      "           3       1.00      0.99      0.99      1320\n",
      "           4       0.99      0.98      0.99     26265\n",
      "           5       1.00      1.00      1.00      2473\n",
      "           6       0.99      0.98      0.99     38309\n",
      "           7       1.00      1.00      1.00      3933\n",
      "           8       0.99      0.97      0.98     81419\n",
      "           9       1.00      0.99      1.00     13359\n",
      "          10       0.98      1.00      0.99    187906\n",
      "\n",
      "    accuracy                           0.99    416847\n",
      "   macro avg       0.99      0.99      0.99    416847\n",
      "weighted avg       0.99      0.99      0.99    416847\n",
      "\n"
     ]
    }
   ],
   "source": [
    "from sklearn.metrics import classification_report\n",
    "\n",
    "print(classification_report(ytr1, y_pred))"
   ]
  },
  {
   "cell_type": "code",
   "execution_count": 35,
   "metadata": {},
   "outputs": [
    {
     "name": "stdout",
     "output_type": "stream",
     "text": [
      "              precision    recall  f1-score   support\n",
      "\n",
      "           1       0.00      0.00      0.00        42\n",
      "           2       0.52      0.53      0.52     14644\n",
      "           3       0.00      0.00      0.00        76\n",
      "           4       0.17      0.01      0.01      5814\n",
      "           5       0.00      0.00      0.00       143\n",
      "           6       0.24      0.03      0.05      9710\n",
      "           7       0.00      0.00      0.00       856\n",
      "           8       0.32      0.10      0.15     25476\n",
      "           9       0.00      0.00      0.00      5284\n",
      "          10       0.59      0.94      0.73     64307\n",
      "\n",
      "    accuracy                           0.56    126352\n",
      "   macro avg       0.18      0.16      0.15    126352\n",
      "weighted avg       0.45      0.56      0.47    126352\n",
      "\n"
     ]
    }
   ],
   "source": [
    "print(classification_report(yval1, y_pred_v))"
   ]
  },
  {
   "cell_type": "code",
   "execution_count": null,
   "metadata": {},
   "outputs": [],
   "source": []
  }
 ],
 "metadata": {
  "kernelspec": {
   "display_name": "Python 3",
   "language": "python",
   "name": "python3"
  },
  "language_info": {
   "codemirror_mode": {
    "name": "ipython",
    "version": 3
   },
   "file_extension": ".py",
   "mimetype": "text/x-python",
   "name": "python",
   "nbconvert_exporter": "python",
   "pygments_lexer": "ipython3",
   "version": "3.7.6"
  }
 },
 "nbformat": 4,
 "nbformat_minor": 4
}
