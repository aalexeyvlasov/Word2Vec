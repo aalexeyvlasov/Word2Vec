{
 "cells": [
  {
   "cell_type": "code",
   "execution_count": 1,
   "metadata": {},
   "outputs": [],
   "source": [
    "import warnings\n",
    "warnings.filterwarnings('ignore')\n",
    "#%matplotlib inline\n",
    "import numpy as np\n",
    "import pandas as pd"
   ]
  },
  {
   "cell_type": "code",
   "execution_count": 2,
   "metadata": {},
   "outputs": [
    {
     "data": {
      "text/plain": [
       "(163837, 11)"
      ]
     },
     "execution_count": 2,
     "metadata": {},
     "output_type": "execute_result"
    }
   ],
   "source": [
    "##################  Загрузка данных\n",
    "#Data1 = pd.read_csv('D:\\Coding\\data\\phone_user_review_file_1.csv', encoding= 'ANSI')\n",
    "#Data2 = pd.read_csv('D:\\Coding\\data\\phone_user_review_file_2.csv', encoding= 'ANSI')\n",
    "#Data3 = pd.read_csv('D:\\Coding\\data\\phone_user_review_file_3.csv', encoding= 'ANSI')\n",
    "#Data4 = pd.read_csv('D:\\Coding\\data\\phone_user_review_file_4.csv', encoding= 'ANSI')\n",
    "#Data5 = pd.read_csv('D:\\Coding\\data\\phone_user_review_file_5.csv', encoding= 'ANSI')\n",
    "Data6 = pd.read_csv('D:\\Coding\\data\\phone_user_review_file_6.csv', encoding= 'ANSI')\n",
    "\n",
    "#total_data = pd.concat([Data1,Data2, Data3, Data4, Data5, Data6], axis=0)\n",
    "total_data = Data6\n",
    "\n",
    "total_data.shape"
   ]
  },
  {
   "cell_type": "code",
   "execution_count": 3,
   "metadata": {},
   "outputs": [
    {
     "data": {
      "text/html": [
       "<div>\n",
       "<style scoped>\n",
       "    .dataframe tbody tr th:only-of-type {\n",
       "        vertical-align: middle;\n",
       "    }\n",
       "\n",
       "    .dataframe tbody tr th {\n",
       "        vertical-align: top;\n",
       "    }\n",
       "\n",
       "    .dataframe thead th {\n",
       "        text-align: right;\n",
       "    }\n",
       "</style>\n",
       "<table border=\"1\" class=\"dataframe\">\n",
       "  <thead>\n",
       "    <tr style=\"text-align: right;\">\n",
       "      <th></th>\n",
       "      <th>lang</th>\n",
       "      <th>score</th>\n",
       "      <th>extract</th>\n",
       "    </tr>\n",
       "  </thead>\n",
       "  <tbody>\n",
       "    <tr>\n",
       "      <th>0</th>\n",
       "      <td>en</td>\n",
       "      <td>8.0</td>\n",
       "      <td>I've had the phone for awhile and it's a prett...</td>\n",
       "    </tr>\n",
       "    <tr>\n",
       "      <th>1</th>\n",
       "      <td>en</td>\n",
       "      <td>6.0</td>\n",
       "      <td>to be clear it is not the sellers fault that t...</td>\n",
       "    </tr>\n",
       "    <tr>\n",
       "      <th>2</th>\n",
       "      <td>en</td>\n",
       "      <td>9.0</td>\n",
       "      <td>Well i love this phone. i have had ton of phon...</td>\n",
       "    </tr>\n",
       "    <tr>\n",
       "      <th>3</th>\n",
       "      <td>en</td>\n",
       "      <td>4.0</td>\n",
       "      <td>I have had my Instinct for several months now ...</td>\n",
       "    </tr>\n",
       "    <tr>\n",
       "      <th>4</th>\n",
       "      <td>en</td>\n",
       "      <td>6.0</td>\n",
       "      <td>i have had this instinct phone for about two m...</td>\n",
       "    </tr>\n",
       "  </tbody>\n",
       "</table>\n",
       "</div>"
      ],
      "text/plain": [
       "  lang  score                                            extract\n",
       "0   en    8.0  I've had the phone for awhile and it's a prett...\n",
       "1   en    6.0  to be clear it is not the sellers fault that t...\n",
       "2   en    9.0  Well i love this phone. i have had ton of phon...\n",
       "3   en    4.0  I have had my Instinct for several months now ...\n",
       "4   en    6.0  i have had this instinct phone for about two m..."
      ]
     },
     "execution_count": 3,
     "metadata": {},
     "output_type": "execute_result"
    }
   ],
   "source": [
    "total_data[['lang', 'score', 'extract']].head()"
   ]
  },
  {
   "cell_type": "code",
   "execution_count": 4,
   "metadata": {},
   "outputs": [],
   "source": [
    "##################  Препроцессинг"
   ]
  },
  {
   "cell_type": "code",
   "execution_count": 5,
   "metadata": {},
   "outputs": [
    {
     "name": "stderr",
     "output_type": "stream",
     "text": [
      "[nltk_data] Downloading package stopwords to\n",
      "[nltk_data]     C:\\Users\\Алексей\\AppData\\Roaming\\nltk_data...\n",
      "[nltk_data]   Package stopwords is already up-to-date!\n"
     ]
    }
   ],
   "source": [
    "import nltk\n",
    "nltk.download('stopwords')\n",
    "from sklearn.metrics import mean_squared_error\n",
    "import re #regular expressions\n",
    "from nltk.corpus import stopwords #stopwords\n",
    "\n",
    "import pymorphy2 #Для лемматизации\n",
    "morph = pymorphy2.MorphAnalyzer()\n",
    "\n",
    "#Добавление списка stopwords\n",
    "stops = set(stopwords.words(\"english\"))"
   ]
  },
  {
   "cell_type": "code",
   "execution_count": 6,
   "metadata": {},
   "outputs": [],
   "source": [
    "def review_to_wordlist(review):\n",
    "    #1) - регулярное выражение к тексту\n",
    "    review_text = re.sub(\"[^а-яА-Яa-zA-Z]\",\" \", review)\n",
    "    #2) - разделение текста на список слов\n",
    "    words = review_text.lower().split()\n",
    "    #3) - удаление stopwords из списка слов\n",
    "    words = [w for w in words if not w in stops]\n",
    "    #4) - лемматизация слов\n",
    "    #words = [morph.parse(w)[0].normal_form for w in words ]\n",
    "    return(words)"
   ]
  },
  {
   "cell_type": "code",
   "execution_count": 7,
   "metadata": {},
   "outputs": [],
   "source": [
    "data = total_data[(total_data.lang == 'en')]\n",
    "data = data[['score', 'extract']]\n",
    "data = data.dropna()"
   ]
  },
  {
   "cell_type": "code",
   "execution_count": 8,
   "metadata": {},
   "outputs": [
    {
     "name": "stdout",
     "output_type": "stream",
     "text": [
      "data.shape():  (49093, 2)\n"
     ]
    }
   ],
   "source": [
    "print(\"data.shape(): \", data.shape)"
   ]
  },
  {
   "cell_type": "code",
   "execution_count": 9,
   "metadata": {},
   "outputs": [],
   "source": [
    "data['content_clear'] = data['extract'].apply(review_to_wordlist)"
   ]
  },
  {
   "cell_type": "code",
   "execution_count": 10,
   "metadata": {},
   "outputs": [
    {
     "name": "stdout",
     "output_type": "stream",
     "text": [
      "1-й комментрий: \n",
      "data['content_clear'][0]:  ['phone', 'awhile', 'pretty', 'good', 'phone', 'call', 'quality', 'response', 'sms', 'mms', 'much', 'faster', 'data', 'g', 'runs', 'like', 'g', 'network', 'phone', 'pretty', 'much', 'like', 'android', 'except', 'without', 'widgets', 'market']\n"
     ]
    }
   ],
   "source": [
    "print(\"1-й комментрий: \\ndata['content_clear'][0]: \", data['content_clear'][0])"
   ]
  },
  {
   "cell_type": "markdown",
   "metadata": {},
   "source": [
    "############## Word2vec ##############"
   ]
  },
  {
   "cell_type": "code",
   "execution_count": 11,
   "metadata": {},
   "outputs": [
    {
     "name": "stdout",
     "output_type": "stream",
     "text": [
      "Done!\n"
     ]
    }
   ],
   "source": [
    "import gensim\n",
    "from gensim.models import word2vec\n",
    "from multiprocessing import cpu_count\n",
    "\n",
    "######## Скачивание готовой натренированной модели \n",
    "model_w2v = gensim.models.KeyedVectors.load_word2vec_format('D:\\Coding\\Word2vec\\GoogleNews-vectors-negative300.bin\\GoogleNews-vectors-negative300.bin', binary=True)\n",
    "w2v = dict(zip(model_w2v.wv.index2word, model_w2v.wv.syn0))\n",
    "\n",
    "print(\"Done!\")"
   ]
  },
  {
   "cell_type": "code",
   "execution_count": 15,
   "metadata": {},
   "outputs": [
    {
     "data": {
      "text/plain": [
       "[('telephone', 0.8224020600318909),\n",
       " ('cell_phone', 0.7831966876983643),\n",
       " ('cellphone', 0.7629485130310059),\n",
       " ('Phone', 0.7060797810554504),\n",
       " ('phones', 0.6894922256469727),\n",
       " ('landline', 0.6263927221298218),\n",
       " ('voicemail', 0.6252243518829346),\n",
       " ('caller_id', 0.6023745536804199),\n",
       " ('RingCentral_cloud_computing', 0.5935890674591064),\n",
       " ('telephones', 0.5929964780807495)]"
      ]
     },
     "execution_count": 15,
     "metadata": {},
     "output_type": "execute_result"
    }
   ],
   "source": [
    "# Посмотрим чему выучилась модель:\n",
    "#model_w2v.wv.most_similar(positive=['phone'])"
   ]
  },
  {
   "cell_type": "markdown",
   "metadata": {},
   "source": [
    "############## mean_vectorizer ##############"
   ]
  },
  {
   "cell_type": "code",
   "execution_count": 12,
   "metadata": {},
   "outputs": [],
   "source": [
    "class mean_vectorizer(object):\n",
    "    def __init__(self, word2vec):\n",
    "        self.word2vec = word2vec\n",
    "        self.dim = len(next(iter(w2v.values())))\n",
    "\n",
    "    def fit(self, X):\n",
    "        return self\n",
    "\n",
    "    def transform(self, X):\n",
    "        return np.array([\n",
    "            np.mean([self.word2vec[w] for w in words if w in self.word2vec]\n",
    "                    or [np.zeros(self.dim)], axis=0)\n",
    "            for words in X\n",
    "        ])"
   ]
  },
  {
   "cell_type": "code",
   "execution_count": 13,
   "metadata": {},
   "outputs": [
    {
     "data": {
      "text/plain": [
       "(49093, 300)"
      ]
     },
     "execution_count": 13,
     "metadata": {},
     "output_type": "execute_result"
    }
   ],
   "source": [
    "data_mean = mean_vectorizer(w2v).fit(data['content_clear']).transform(data['content_clear'])\n",
    "data_mean.shape"
   ]
  },
  {
   "cell_type": "code",
   "execution_count": 14,
   "metadata": {},
   "outputs": [],
   "source": [
    "from sklearn.model_selection import train_test_split\n",
    "\n",
    "y = data['score']\n",
    "Xtr, Xval, ytr, yval = train_test_split(data_mean, y, test_size=0.33, random_state=42)"
   ]
  },
  {
   "cell_type": "code",
   "execution_count": 15,
   "metadata": {},
   "outputs": [
    {
     "name": "stdout",
     "output_type": "stream",
     "text": [
      "Xtr.shape():  (32892, 300) \n",
      "Xval.shape():  (16201, 300) \n",
      "ytr.mean():  7.243080384287974 \n",
      "yval.mean():  7.228380964138016\n"
     ]
    }
   ],
   "source": [
    "print(\"Xtr.shape(): \", Xtr.shape,\n",
    "      \"\\nXval.shape(): \", Xval.shape,\n",
    "      \"\\nytr.mean(): \", ytr.mean(),\n",
    "      \"\\nyval.mean(): \", yval.mean()\n",
    "      )"
   ]
  },
  {
   "cell_type": "code",
   "execution_count": 16,
   "metadata": {},
   "outputs": [
    {
     "data": {
      "image/png": "[encoded data removed]",
      "text/plain": [
       "<Figure size 432x288 with 1 Axes>"
      ]
     },
     "metadata": {
      "needs_background": "light"
     },
     "output_type": "display_data"
    }
   ],
   "source": [
    "import seaborn as sns\n",
    "import matplotlib.pyplot as plt\n",
    "\n",
    "plt.figure(figsize=(6, 4))\n",
    "sns.distplot(ytr)\n",
    "\n",
    "plt.show()"
   ]
  },
  {
   "cell_type": "markdown",
   "metadata": {},
   "source": [
    "############# RandomForestRegressor подготовка #############"
   ]
  },
  {
   "cell_type": "code",
   "execution_count": 17,
   "metadata": {},
   "outputs": [
    {
     "data": {
      "text/plain": [
       "66734      9.0\n",
       "62376     10.0\n",
       "78493      2.7\n",
       "89276      1.0\n",
       "73820     10.0\n",
       "48015     10.0\n",
       "41700      9.0\n",
       "134363    10.0\n",
       "109962     8.0\n",
       "96023      9.2\n",
       "Name: score, dtype: float64"
      ]
     },
     "execution_count": 17,
     "metadata": {},
     "output_type": "execute_result"
    }
   ],
   "source": [
    "ytr[:10]"
   ]
  },
  {
   "cell_type": "code",
   "execution_count": 18,
   "metadata": {},
   "outputs": [
    {
     "data": {
      "text/plain": [
       "'multiclass'"
      ]
     },
     "execution_count": 18,
     "metadata": {},
     "output_type": "execute_result"
    }
   ],
   "source": [
    "from sklearn import utils\n",
    "ytr1 = ytr.astype('int')\n",
    "yval1 = yval.astype('int')\n",
    "utils.multiclass.type_of_target(ytr1)"
   ]
  },
  {
   "cell_type": "code",
   "execution_count": 19,
   "metadata": {},
   "outputs": [
    {
     "data": {
      "text/plain": [
       "66734      9\n",
       "62376     10\n",
       "78493      2\n",
       "89276      1\n",
       "73820     10\n",
       "48015     10\n",
       "41700      9\n",
       "134363    10\n",
       "109962     8\n",
       "96023      9\n",
       "Name: score, dtype: int32"
      ]
     },
     "execution_count": 19,
     "metadata": {},
     "output_type": "execute_result"
    }
   ],
   "source": [
    "ytr1[:10]"
   ]
  },
  {
   "cell_type": "markdown",
   "metadata": {},
   "source": [
    "############# Нейронная сеть #############"
   ]
  },
  {
   "cell_type": "code",
   "execution_count": 20,
   "metadata": {},
   "outputs": [
    {
     "name": "stderr",
     "output_type": "stream",
     "text": [
      "Using TensorFlow backend.\n"
     ]
    }
   ],
   "source": [
    "# подключим библиотеки keras\n",
    "from keras.models import Sequential, Model\n",
    "from keras.layers import Dense, Dropout, Activation, Input\n",
    "from keras.preprocessing.text import Tokenizer\n",
    "from keras import regularizers\n",
    "from keras.wrappers.scikit_learn import KerasRegressor"
   ]
  },
  {
   "cell_type": "code",
   "execution_count": 21,
   "metadata": {},
   "outputs": [],
   "source": [
    "# Опишем нашу сеть.\n",
    "def baseline_model():\n",
    "    model_neuraln = Sequential()\n",
    "    model_neuraln.add(Dense(128, input_dim=Xtr.shape[1], kernel_initializer='normal', activation='relu'))\n",
    "    model_neuraln.add(Dropout(0.2))\n",
    "    model_neuraln.add(Dense(64, activation='relu'))\n",
    "    model_neuraln.add(Dropout(0.5))\n",
    "    model_neuraln.add(Dense(1, kernel_initializer='normal'))\n",
    "\n",
    "    model_neuraln.compile(loss='mean_squared_error', optimizer='adam')\n",
    "    return model_neuraln"
   ]
  },
  {
   "cell_type": "code",
   "execution_count": 33,
   "metadata": {},
   "outputs": [
    {
     "name": "stdout",
     "output_type": "stream",
     "text": [
      "Train on 32892 samples, validate on 16201 samples\n",
      "Epoch 1/20\n",
      " - 1s - loss: 10.4445 - val_loss: 5.7270\n",
      "Epoch 2/20\n",
      " - 1s - loss: 6.9157 - val_loss: 5.4346\n",
      "Epoch 3/20\n",
      " - 1s - loss: 6.6529 - val_loss: 5.3273\n",
      "Epoch 4/20\n",
      " - 1s - loss: 6.4926 - val_loss: 5.4877\n",
      "Epoch 5/20\n",
      " - 1s - loss: 6.3263 - val_loss: 5.1683\n",
      "Epoch 6/20\n",
      " - 1s - loss: 6.2039 - val_loss: 5.1366\n",
      "Epoch 7/20\n",
      " - 1s - loss: 6.1629 - val_loss: 5.3279\n",
      "Epoch 8/20\n",
      " - 1s - loss: 5.9912 - val_loss: 5.2154\n",
      "Epoch 9/20\n",
      " - 1s - loss: 5.9292 - val_loss: 5.1529\n",
      "Epoch 10/20\n",
      " - 1s - loss: 5.7714 - val_loss: 5.1189\n",
      "Epoch 11/20\n",
      " - 1s - loss: 5.6299 - val_loss: 5.0030\n",
      "Epoch 12/20\n",
      " - 1s - loss: 5.5563 - val_loss: 4.9928\n",
      "Epoch 13/20\n",
      " - 1s - loss: 5.4249 - val_loss: 5.2149\n",
      "Epoch 14/20\n",
      " - 1s - loss: 5.3462 - val_loss: 4.9596\n",
      "Epoch 15/20\n",
      " - 1s - loss: 5.2585 - val_loss: 4.9593\n",
      "Epoch 16/20\n",
      " - 1s - loss: 5.1625 - val_loss: 5.0247\n",
      "Epoch 17/20\n",
      " - 1s - loss: 5.0725 - val_loss: 4.9316\n",
      "Epoch 18/20\n",
      " - 1s - loss: 5.0002 - val_loss: 4.9219\n",
      "Epoch 19/20\n",
      " - 1s - loss: 4.9367 - val_loss: 5.0599\n",
      "Epoch 20/20\n",
      " - 1s - loss: 4.8918 - val_loss: 4.9810\n"
     ]
    },
    {
     "data": {
      "text/plain": [
       "<keras.callbacks.callbacks.History at 0x1e2b4edbd88>"
      ]
     },
     "execution_count": 33,
     "metadata": {},
     "output_type": "execute_result"
    }
   ],
   "source": [
    "estimator = KerasRegressor(build_fn=baseline_model,epochs=20, nb_epoch=20, batch_size=64,validation_data=(Xval, yval), verbose=2)\n",
    "estimator.fit(Xtr, ytr)"
   ]
  },
  {
   "cell_type": "code",
   "execution_count": 34,
   "metadata": {},
   "outputs": [],
   "source": [
    "y_pred_v = estimator.predict(Xval)"
   ]
  },
  {
   "cell_type": "code",
   "execution_count": 37,
   "metadata": {},
   "outputs": [
    {
     "data": {
      "text/plain": [
       "0.1351768409357447"
      ]
     },
     "execution_count": 37,
     "metadata": {},
     "output_type": "execute_result"
    }
   ],
   "source": [
    "from sklearn.metrics import accuracy_score\n",
    "\n",
    "y_pred_v1 = y_pred_v.astype('int')\n",
    "\n",
    "accuracy_score(yval1, y_pred_v1)"
   ]
  },
  {
   "cell_type": "code",
   "execution_count": 26,
   "metadata": {},
   "outputs": [
    {
     "data": {
      "text/html": [
       "<div>\n",
       "<style scoped>\n",
       "    .dataframe tbody tr th:only-of-type {\n",
       "        vertical-align: middle;\n",
       "    }\n",
       "\n",
       "    .dataframe tbody tr th {\n",
       "        vertical-align: top;\n",
       "    }\n",
       "\n",
       "    .dataframe thead th {\n",
       "        text-align: right;\n",
       "    }\n",
       "</style>\n",
       "<table border=\"1\" class=\"dataframe\">\n",
       "  <thead>\n",
       "    <tr style=\"text-align: right;\">\n",
       "      <th></th>\n",
       "      <th>y_pred_v</th>\n",
       "      <th>yval</th>\n",
       "    </tr>\n",
       "  </thead>\n",
       "  <tbody>\n",
       "    <tr>\n",
       "      <th>0</th>\n",
       "      <td>7.954544</td>\n",
       "      <td>8.0</td>\n",
       "    </tr>\n",
       "    <tr>\n",
       "      <th>1</th>\n",
       "      <td>8.501387</td>\n",
       "      <td>5.8</td>\n",
       "    </tr>\n",
       "    <tr>\n",
       "      <th>2</th>\n",
       "      <td>7.555978</td>\n",
       "      <td>6.0</td>\n",
       "    </tr>\n",
       "    <tr>\n",
       "      <th>3</th>\n",
       "      <td>7.690017</td>\n",
       "      <td>6.0</td>\n",
       "    </tr>\n",
       "    <tr>\n",
       "      <th>4</th>\n",
       "      <td>8.738216</td>\n",
       "      <td>9.0</td>\n",
       "    </tr>\n",
       "    <tr>\n",
       "      <th>5</th>\n",
       "      <td>6.170913</td>\n",
       "      <td>4.0</td>\n",
       "    </tr>\n",
       "    <tr>\n",
       "      <th>6</th>\n",
       "      <td>7.153655</td>\n",
       "      <td>10.0</td>\n",
       "    </tr>\n",
       "    <tr>\n",
       "      <th>7</th>\n",
       "      <td>7.009925</td>\n",
       "      <td>8.0</td>\n",
       "    </tr>\n",
       "    <tr>\n",
       "      <th>8</th>\n",
       "      <td>8.641272</td>\n",
       "      <td>10.0</td>\n",
       "    </tr>\n",
       "    <tr>\n",
       "      <th>9</th>\n",
       "      <td>7.239349</td>\n",
       "      <td>7.0</td>\n",
       "    </tr>\n",
       "    <tr>\n",
       "      <th>10</th>\n",
       "      <td>7.126375</td>\n",
       "      <td>9.0</td>\n",
       "    </tr>\n",
       "    <tr>\n",
       "      <th>11</th>\n",
       "      <td>8.754431</td>\n",
       "      <td>8.0</td>\n",
       "    </tr>\n",
       "    <tr>\n",
       "      <th>12</th>\n",
       "      <td>7.102868</td>\n",
       "      <td>2.0</td>\n",
       "    </tr>\n",
       "    <tr>\n",
       "      <th>13</th>\n",
       "      <td>9.185287</td>\n",
       "      <td>6.0</td>\n",
       "    </tr>\n",
       "    <tr>\n",
       "      <th>14</th>\n",
       "      <td>7.872023</td>\n",
       "      <td>7.0</td>\n",
       "    </tr>\n",
       "    <tr>\n",
       "      <th>15</th>\n",
       "      <td>6.085458</td>\n",
       "      <td>8.3</td>\n",
       "    </tr>\n",
       "    <tr>\n",
       "      <th>16</th>\n",
       "      <td>7.079090</td>\n",
       "      <td>8.0</td>\n",
       "    </tr>\n",
       "    <tr>\n",
       "      <th>17</th>\n",
       "      <td>6.226697</td>\n",
       "      <td>6.0</td>\n",
       "    </tr>\n",
       "    <tr>\n",
       "      <th>18</th>\n",
       "      <td>8.206034</td>\n",
       "      <td>8.0</td>\n",
       "    </tr>\n",
       "    <tr>\n",
       "      <th>19</th>\n",
       "      <td>8.436506</td>\n",
       "      <td>8.0</td>\n",
       "    </tr>\n",
       "    <tr>\n",
       "      <th>20</th>\n",
       "      <td>7.005222</td>\n",
       "      <td>7.0</td>\n",
       "    </tr>\n",
       "    <tr>\n",
       "      <th>21</th>\n",
       "      <td>8.008905</td>\n",
       "      <td>2.0</td>\n",
       "    </tr>\n",
       "    <tr>\n",
       "      <th>22</th>\n",
       "      <td>4.073386</td>\n",
       "      <td>6.0</td>\n",
       "    </tr>\n",
       "    <tr>\n",
       "      <th>23</th>\n",
       "      <td>7.628973</td>\n",
       "      <td>9.0</td>\n",
       "    </tr>\n",
       "    <tr>\n",
       "      <th>24</th>\n",
       "      <td>8.426853</td>\n",
       "      <td>8.0</td>\n",
       "    </tr>\n",
       "    <tr>\n",
       "      <th>25</th>\n",
       "      <td>9.221466</td>\n",
       "      <td>8.0</td>\n",
       "    </tr>\n",
       "    <tr>\n",
       "      <th>26</th>\n",
       "      <td>2.858881</td>\n",
       "      <td>1.0</td>\n",
       "    </tr>\n",
       "    <tr>\n",
       "      <th>27</th>\n",
       "      <td>8.389156</td>\n",
       "      <td>8.0</td>\n",
       "    </tr>\n",
       "    <tr>\n",
       "      <th>28</th>\n",
       "      <td>6.183706</td>\n",
       "      <td>2.0</td>\n",
       "    </tr>\n",
       "    <tr>\n",
       "      <th>29</th>\n",
       "      <td>6.474628</td>\n",
       "      <td>8.0</td>\n",
       "    </tr>\n",
       "  </tbody>\n",
       "</table>\n",
       "</div>"
      ],
      "text/plain": [
       "    y_pred_v  yval\n",
       "0   7.954544   8.0\n",
       "1   8.501387   5.8\n",
       "2   7.555978   6.0\n",
       "3   7.690017   6.0\n",
       "4   8.738216   9.0\n",
       "5   6.170913   4.0\n",
       "6   7.153655  10.0\n",
       "7   7.009925   8.0\n",
       "8   8.641272  10.0\n",
       "9   7.239349   7.0\n",
       "10  7.126375   9.0\n",
       "11  8.754431   8.0\n",
       "12  7.102868   2.0\n",
       "13  9.185287   6.0\n",
       "14  7.872023   7.0\n",
       "15  6.085458   8.3\n",
       "16  7.079090   8.0\n",
       "17  6.226697   6.0\n",
       "18  8.206034   8.0\n",
       "19  8.436506   8.0\n",
       "20  7.005222   7.0\n",
       "21  8.008905   2.0\n",
       "22  4.073386   6.0\n",
       "23  7.628973   9.0\n",
       "24  8.426853   8.0\n",
       "25  9.221466   8.0\n",
       "26  2.858881   1.0\n",
       "27  8.389156   8.0\n",
       "28  6.183706   2.0\n",
       "29  6.474628   8.0"
      ]
     },
     "execution_count": 26,
     "metadata": {},
     "output_type": "execute_result"
    }
   ],
   "source": [
    "df = pd.DataFrame(list(zip(y_pred_v, yval)),\n",
    "                                 columns = ['y_pred_v', 'yval'])\n",
    "df.head(30)"
   ]
  },
  {
   "cell_type": "code",
   "execution_count": 40,
   "metadata": {},
   "outputs": [
    {
     "data": {
      "text/plain": [
       "-4.980998651031123"
      ]
     },
     "execution_count": 40,
     "metadata": {},
     "output_type": "execute_result"
    }
   ],
   "source": [
    "estimator.score(Xval, yval)"
   ]
  },
  {
   "cell_type": "code",
   "execution_count": null,
   "metadata": {},
   "outputs": [],
   "source": []
  }
 ],
 "metadata": {
  "kernelspec": {
   "display_name": "Python 3",
   "language": "python",
   "name": "python3"
  },
  "language_info": {
   "codemirror_mode": {
    "name": "ipython",
    "version": 3
   },
   "file_extension": ".py",
   "mimetype": "text/x-python",
   "name": "python",
   "nbconvert_exporter": "python",
   "pygments_lexer": "ipython3",
   "version": "3.7.6"
  }
 },
 "nbformat": 4,
 "nbformat_minor": 4
}
