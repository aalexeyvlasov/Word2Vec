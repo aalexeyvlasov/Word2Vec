{
 "cells": [
  {
   "cell_type": "code",
   "execution_count": 1,
   "metadata": {},
   "outputs": [],
   "source": [
    "import warnings\n",
    "warnings.filterwarnings('ignore')\n",
    "#%matplotlib inline\n",
    "from sklearn.metrics import roc_auc_score\n",
    "import numpy as np\n",
    "import pandas as pd\n",
    "\n",
    "##################  Загрузка данных\n",
    "Xtrain = pd.read_csv('D:\\Coding\\data\\phone_user_review_file_60.csv', encoding= 'utf-8')\n",
    "Xtest = pd.read_csv('D:\\Coding\\data\\phone_user_review_file_40.csv', encoding= 'utf-8')"
   ]
  },
  {
   "cell_type": "code",
   "execution_count": 2,
   "metadata": {},
   "outputs": [
    {
     "name": "stdout",
     "output_type": "stream",
     "text": [
      "Xtrain.shape():  (163837, 11) \n",
      "Xtest.shape():  (98284, 11)\n"
     ]
    }
   ],
   "source": [
    "print(\"Xtrain.shape(): \", Xtrain.shape,\n",
    "      \"\\nXtest.shape(): \", Xtest.shape)"
   ]
  },
  {
   "cell_type": "code",
   "execution_count": 3,
   "metadata": {},
   "outputs": [
    {
     "name": "stdout",
     "output_type": "stream",
     "text": [
      "Xtrain.head():\n",
      "   lang  score                                            extract\n",
      "0   en    8.0  I've had the phone for awhile and it's a prett...\n",
      "1   en    6.0  to be clear it is not the sellers fault that t...\n",
      "2   en    9.0  Well i love this phone. i have had ton of phon...\n",
      "3   en    4.0  I have had my Instinct for several months now ...\n",
      "4   en    6.0  i have had this instinct phone for about two m...\n"
     ]
    }
   ],
   "source": [
    "print(\"Xtrain.head():\\n\", Xtrain[['lang', 'score', 'extract']].head())"
   ]
  },
  {
   "cell_type": "code",
   "execution_count": 4,
   "metadata": {},
   "outputs": [],
   "source": [
    "##################  Препроцессинг"
   ]
  },
  {
   "cell_type": "code",
   "execution_count": 5,
   "metadata": {},
   "outputs": [
    {
     "name": "stderr",
     "output_type": "stream",
     "text": [
      "[nltk_data] Downloading package stopwords to\n",
      "[nltk_data]     C:\\Users\\Алексей\\AppData\\Roaming\\nltk_data...\n",
      "[nltk_data]   Package stopwords is already up-to-date!\n"
     ]
    }
   ],
   "source": [
    "import nltk\n",
    "nltk.download('stopwords')\n",
    "from sklearn.metrics import mean_squared_error\n",
    "import re #regular expressions\n",
    "from nltk.corpus import stopwords #stopwords\n",
    "\n",
    "import pymorphy2 #Для лемматизации\n",
    "morph = pymorphy2.MorphAnalyzer()\n",
    "\n",
    "#Добавление списка stopwords\n",
    "stops = set(stopwords.words(\"english\"))"
   ]
  },
  {
   "cell_type": "code",
   "execution_count": 6,
   "metadata": {},
   "outputs": [],
   "source": [
    "def review_to_wordlist(review):\n",
    "    #1) - регулярное выражение к тексту\n",
    "    review_text = re.sub(\"[^а-яА-Яa-zA-Z]\",\" \", review)\n",
    "    #2) - разделение текста на список слов\n",
    "    words = review_text.lower().split()\n",
    "    #3) - удаление stopwords из списка слов\n",
    "    words = [w for w in words if not w in stops]\n",
    "    #4) - лемматизация слов\n",
    "    #words = [morph.parse(w)[0].normal_form for w in words ]\n",
    "    return(words)"
   ]
  },
  {
   "cell_type": "code",
   "execution_count": 7,
   "metadata": {},
   "outputs": [],
   "source": [
    "# Преобразуем время\n",
    "# Разделение времени на год и месяц\n",
    "Xtrain['date'] = Xtrain['date'].apply(pd.to_datetime)\n",
    "Xtrain['year'] = Xtrain['date'].apply(lambda x: x.year)\n",
    "Xtrain['month'] = Xtrain['date'].apply(lambda x: x.month)"
   ]
  },
  {
   "cell_type": "code",
   "execution_count": 8,
   "metadata": {},
   "outputs": [],
   "source": [
    "#Валидация на 2016 годе\n",
    "Xtr = Xtrain[(Xtrain['year']==2015) & (Xtrain.lang == 'en')]\n",
    "Xval = Xtrain[(Xtrain['year']==2016) & (Xtrain.lang == 'en')]\n",
    "#score - оценка телефона\n",
    "ytr = Xtr['score']\n",
    "yval = Xval['score']"
   ]
  },
  {
   "cell_type": "code",
   "execution_count": 10,
   "metadata": {},
   "outputs": [
    {
     "name": "stdout",
     "output_type": "stream",
     "text": [
      "Xtr.shape():  (494, 13) \n",
      "Xval.shape():  (217, 13) \n",
      "ytr.mean():  7.410931174089069 \n",
      "yval.mean():  6.686635944700461\n"
     ]
    }
   ],
   "source": [
    "print(\"Xtr.shape(): \", Xtr.shape,\n",
    "      \"\\nXval.shape(): \", Xval.shape,\n",
    "      \"\\nytr.mean(): \", ytr.mean(),\n",
    "      \"\\nyval.mean(): \", yval.mean()\n",
    "      )"
   ]
  },
  {
   "cell_type": "code",
   "execution_count": 11,
   "metadata": {},
   "outputs": [],
   "source": [
    "data = pd.concat([Xtr,Xval],axis = 0,ignore_index = True)\n",
    "\n",
    "#у нас есть nan, поэтому преобразуем их к строке\n",
    "data['content_clear'] = data['extract'].apply(str)\n",
    "data['content_clear'] = data['content_clear'].apply(review_to_wordlist)"
   ]
  },
  {
   "cell_type": "code",
   "execution_count": 12,
   "metadata": {},
   "outputs": [
    {
     "name": "stdout",
     "output_type": "stream",
     "text": [
      "1-й комментрий: \n",
      "data['content_clear'][0]:  ['price', 'expected', 'phone', 'beat', 'work']\n"
     ]
    }
   ],
   "source": [
    "print(\"1-й комментрий: \\ndata['content_clear'][0]: \", data['content_clear'][0])"
   ]
  },
  {
   "cell_type": "markdown",
   "metadata": {},
   "source": [
    "############## Word2vec ##############"
   ]
  },
  {
   "cell_type": "code",
   "execution_count": 13,
   "metadata": {},
   "outputs": [
    {
     "name": "stdout",
     "output_type": "stream",
     "text": [
      "Done!\n"
     ]
    }
   ],
   "source": [
    "import gensim\n",
    "from gensim.models import word2vec\n",
    "from multiprocessing import cpu_count\n",
    "\n",
    "######## Тренировка модели\n",
    "# size - размер вектора\n",
    "#min_count - игнорирует все слова с total frequency меньше заданного значения\n",
    "#workers - количество ядер PC\n",
    "#window - максимальная дистанция между текущем словом и прогнозируемом в предложении\n",
    "\n",
    "#model_w2v = word2vec.Word2Vec(data['content_clear'], size=50, window=10, workers=cpu_count())\n",
    "\n",
    "\n",
    "######## Скачивание готовой натренированной модели \n",
    "model_w2v = gensim.models.KeyedVectors.load_word2vec_format('D:\\Coding\\Word2vec\\GoogleNews-vectors-negative300.bin\\GoogleNews-vectors-negative300.bin', binary=True)\n",
    "w2v = dict(zip(model_w2v.wv.index2word, model_w2v.wv.syn0))\n",
    "\n",
    "print(\"Done!\")"
   ]
  },
  {
   "cell_type": "code",
   "execution_count": 15,
   "metadata": {},
   "outputs": [
    {
     "data": {
      "text/plain": [
       "[('telephone', 0.8224020600318909),\n",
       " ('cell_phone', 0.7831966876983643),\n",
       " ('cellphone', 0.7629485130310059),\n",
       " ('Phone', 0.7060797810554504),\n",
       " ('phones', 0.6894922256469727),\n",
       " ('landline', 0.6263927221298218),\n",
       " ('voicemail', 0.6252243518829346),\n",
       " ('caller_id', 0.6023745536804199),\n",
       " ('RingCentral_cloud_computing', 0.5935890674591064),\n",
       " ('telephones', 0.5929964780807495)]"
      ]
     },
     "execution_count": 15,
     "metadata": {},
     "output_type": "execute_result"
    }
   ],
   "source": [
    "# Посмотрим чему выучилась модель:\n",
    "#model_w2v.wv.most_similar(positive=['phone'])"
   ]
  },
  {
   "cell_type": "markdown",
   "metadata": {},
   "source": [
    "############## mean_vectorizer ##############"
   ]
  },
  {
   "cell_type": "code",
   "execution_count": 14,
   "metadata": {},
   "outputs": [],
   "source": [
    "class mean_vectorizer(object):\n",
    "    def __init__(self, word2vec):\n",
    "        self.word2vec = word2vec\n",
    "        self.dim = len(next(iter(w2v.values())))\n",
    "\n",
    "    def fit(self, X):\n",
    "        return self\n",
    "\n",
    "    def transform(self, X):\n",
    "        return np.array([\n",
    "            np.mean([self.word2vec[w] for w in words if w in self.word2vec]\n",
    "                    or [np.zeros(self.dim)], axis=0)\n",
    "            for words in X\n",
    "        ])"
   ]
  },
  {
   "cell_type": "code",
   "execution_count": 15,
   "metadata": {},
   "outputs": [
    {
     "data": {
      "text/plain": [
       "(711, 300)"
      ]
     },
     "execution_count": 15,
     "metadata": {},
     "output_type": "execute_result"
    }
   ],
   "source": [
    "data_mean = mean_vectorizer(w2v).fit(data['content_clear']).transform(data['content_clear'])\n",
    "data_mean.shape"
   ]
  },
  {
   "cell_type": "code",
   "execution_count": 16,
   "metadata": {},
   "outputs": [],
   "source": [
    "def split(train,y,ratio):\n",
    "    idx = ratio\n",
    "    return train[:idx, :], train[idx:, :], y[:idx], y[idx:]\n",
    "y = data['score']\n",
    "Xtr, Xval, ytr, yval = split(data_mean, y, 494)"
   ]
  },
  {
   "cell_type": "code",
   "execution_count": 17,
   "metadata": {},
   "outputs": [
    {
     "name": "stdout",
     "output_type": "stream",
     "text": [
      "Xtr.shape():  (494, 300) \n",
      "Xval.shape():  (217, 300) \n",
      "ytr.mean():  7.410931174089069 \n",
      "yval.mean():  6.686635944700461\n"
     ]
    }
   ],
   "source": [
    "print(\"Xtr.shape(): \", Xtr.shape,\n",
    "      \"\\nXval.shape(): \", Xval.shape,\n",
    "      \"\\nytr.mean(): \", ytr.mean(),\n",
    "      \"\\nyval.mean(): \", yval.mean()\n",
    "      )"
   ]
  },
  {
   "cell_type": "code",
   "execution_count": 18,
   "metadata": {},
   "outputs": [
    {
     "data": {
      "image/png": "[encoded data removed]",
      "text/plain": [
       "<Figure size 432x288 with 1 Axes>"
      ]
     },
     "metadata": {
      "needs_background": "light"
     },
     "output_type": "display_data"
    }
   ],
   "source": [
    "import seaborn as sns\n",
    "import matplotlib.pyplot as plt\n",
    "\n",
    "plt.figure(figsize=(6, 4))\n",
    "sns.distplot(ytr)\n",
    "\n",
    "plt.show()"
   ]
  },
  {
   "cell_type": "markdown",
   "metadata": {},
   "source": [
    "############## Random Forest ##############"
   ]
  },
  {
   "cell_type": "code",
   "execution_count": 19,
   "metadata": {},
   "outputs": [],
   "source": [
    "from sklearn.ensemble import RandomForestClassifier\n",
    "\n",
    "#Random Forest классификатор\n",
    "clf_rf = RandomForestClassifier()\n",
    "\n"
   ]
  },
  {
   "cell_type": "code",
   "execution_count": 20,
   "metadata": {},
   "outputs": [
    {
     "data": {
      "text/plain": [
       "RandomForestClassifier(bootstrap=True, ccp_alpha=0.0, class_weight=None,\n",
       "                       criterion='gini', max_depth=None, max_features='auto',\n",
       "                       max_leaf_nodes=None, max_samples=None,\n",
       "                       min_impurity_decrease=0.0, min_impurity_split=None,\n",
       "                       min_samples_leaf=1, min_samples_split=2,\n",
       "                       min_weight_fraction_leaf=0.0, n_estimators=100,\n",
       "                       n_jobs=None, oob_score=False, random_state=None,\n",
       "                       verbose=0, warm_start=False)"
      ]
     },
     "execution_count": 20,
     "metadata": {},
     "output_type": "execute_result"
    }
   ],
   "source": [
    "#классификатор \n",
    "clf_rf.fit(Xtr, ytr)"
   ]
  },
  {
   "cell_type": "code",
   "execution_count": 21,
   "metadata": {},
   "outputs": [
    {
     "data": {
      "text/plain": [
       "array([ 4.,  6., 10.,  2., 10.,  8., 10.,  8., 10.,  6.,  8.,  2.,  8.,\n",
       "        8.,  2., 10., 10.,  8.,  8., 10.,  2.,  8.,  8., 10.,  1.,  2.,\n",
       "       10., 10.,  8., 10.,  2., 10., 10., 10., 10., 10., 10.,  8., 10.,\n",
       "        2., 10., 10., 10.,  8.,  2., 10.,  6.,  9.,  7.,  2.,  2.,  8.,\n",
       "       10.,  8., 10.,  2.,  8., 10.,  2., 10.,  4.,  8., 10., 10.,  6.,\n",
       "        8., 10.,  2.,  8., 10.,  8., 10.,  2.,  6., 10., 10., 10., 10.,\n",
       "       10.,  4., 10.,  8., 10., 10., 10.,  8.,  8.,  8., 10., 10.,  6.,\n",
       "       10., 10., 10.,  8., 10., 10., 10.,  6., 10., 10., 10., 10.,  8.,\n",
       "        8.,  8.,  6., 10.,  8.,  2., 10.,  8., 10., 10.,  6.,  8.,  4.,\n",
       "        2.,  8., 10.,  8.,  2.,  8., 10.,  6.,  6.,  8., 10.,  2., 10.,\n",
       "        2.,  6.,  8.,  8., 10., 10.,  8.,  8.,  8., 10., 10.,  8., 10.,\n",
       "       10.,  8., 10., 10., 10., 10., 10.,  8.,  6.,  2.,  6., 10., 10.,\n",
       "       10., 10., 10., 10.,  2., 10.,  8.,  6., 10.,  8., 10., 10., 10.,\n",
       "       10., 10., 10.,  8., 10.,  6.,  8.,  8.,  6.,  4., 10.,  8.,  8.,\n",
       "       10., 10.,  2.,  2., 10.,  4., 10.,  6.,  8., 10., 10., 10., 10.,\n",
       "       10., 10.,  6.,  8.,  8., 10., 10., 10., 10., 10.,  8., 10., 10.,\n",
       "       10., 10., 10., 10.,  2., 10., 10.,  8.,  8., 10., 10., 10., 10.,\n",
       "       10., 10.,  8., 10., 10.,  8., 10.,  2.,  4.,  8.,  8., 10., 10.,\n",
       "       10., 10., 10.,  8., 10., 10., 10., 10., 10., 10., 10.,  8., 10.,\n",
       "       10., 10.,  6., 10., 10., 10., 10., 10.,  8.,  8.,  8.,  2.,  4.,\n",
       "        8., 10.,  8.,  8., 10.,  6., 10., 10.,  8., 10., 10., 10.,  2.,\n",
       "       10., 10., 10.,  2., 10.,  6.,  8., 10., 10.,  8., 10., 10., 10.,\n",
       "       10., 10.,  4., 10., 10., 10., 10., 10.,  8., 10.,  8., 10.,  8.,\n",
       "       10., 10., 10.,  4., 10.,  2.,  2.,  2.,  6.,  6.,  8.,  2.,  4.,\n",
       "        8.,  2.,  4.,  2.,  2.,  2.,  8.,  6.,  2.,  4.,  2.,  2.,  2.,\n",
       "        2., 10.,  8.,  6., 10.,  8.,  2.,  4., 10., 10.,  2., 10., 10.,\n",
       "        6.,  4., 10., 10.,  2., 10.,  4.,  8.,  2., 10.,  8.,  7., 10.,\n",
       "       10.,  4., 10.,  2., 10., 10.,  8., 10.,  4.,  6., 10.,  4., 10.,\n",
       "       10.,  8., 10., 10., 10.,  6.,  2., 10.,  8.,  6., 10.,  2.,  2.,\n",
       "        2., 10.,  4.,  2.,  8., 10.,  2.,  8.,  2., 10.,  8.,  8.,  8.,\n",
       "       10., 10.,  8., 10.,  4., 10.,  4., 10.,  2.,  4., 10., 10., 10.,\n",
       "        2.,  2.,  2., 10.,  4., 10.,  8.,  2.,  2.,  6.,  6., 10.,  2.,\n",
       "        2.,  2.,  2.,  8.,  2.,  2., 10., 10.,  2., 10.,  2.,  6.,  2.,\n",
       "        2.,  2., 10., 10.,  8.,  2.,  2.,  2.,  2., 10.,  2.,  8.,  8.,\n",
       "        2., 10.,  2.,  2.,  8.,  8.,  6.,  6.,  2.,  2.,  2.,  2.,  8.,\n",
       "        8.,  6.,  2.,  8.,  4.,  4.,  2.,  8.,  2.,  6., 10., 10.,  2.,\n",
       "        2., 10., 10.,  8.,  2.,  8., 10., 10., 10., 10., 10.,  2.,  2.,\n",
       "        5.,  8., 10.,  8.,  2.,  2.,  8.,  8., 10., 10.,  8.,  2.,  8.])"
      ]
     },
     "execution_count": 21,
     "metadata": {},
     "output_type": "execute_result"
    }
   ],
   "source": [
    "y_pred=clf_rf.predict(Xtr)\n",
    "y_pred"
   ]
  },
  {
   "cell_type": "code",
   "execution_count": 22,
   "metadata": {},
   "outputs": [
    {
     "data": {
      "text/plain": [
       "array([10., 10., 10., 10., 10., 10., 10., 10., 10., 10., 10.,  2., 10.,\n",
       "       10.,  2., 10., 10., 10., 10., 10., 10., 10., 10., 10., 10., 10.,\n",
       "        8., 10., 10., 10., 10.,  4., 10., 10., 10., 10., 10., 10., 10.,\n",
       "       10.,  8., 10., 10., 10., 10., 10., 10., 10., 10., 10., 10., 10.,\n",
       "       10., 10., 10.,  2., 10.,  2., 10., 10., 10., 10., 10., 10., 10.,\n",
       "       10., 10., 10., 10., 10., 10., 10., 10., 10., 10., 10., 10., 10.,\n",
       "       10., 10., 10., 10., 10., 10., 10., 10., 10., 10., 10.,  8., 10.,\n",
       "       10.,  2., 10., 10., 10.,  2.,  2., 10., 10., 10., 10.,  2.,  2.,\n",
       "       10., 10., 10., 10., 10., 10., 10., 10., 10., 10., 10., 10., 10.,\n",
       "       10., 10., 10., 10., 10., 10., 10., 10., 10.,  2., 10., 10., 10.,\n",
       "       10., 10., 10., 10., 10.,  2., 10.,  2., 10.,  8., 10.,  8., 10.,\n",
       "       10.,  2., 10., 10., 10., 10.,  2., 10.,  8., 10.,  2., 10., 10.,\n",
       "       10., 10., 10., 10., 10.,  8., 10., 10.,  2., 10., 10.,  2.,  8.,\n",
       "       10., 10.,  8., 10., 10., 10., 10., 10., 10.,  8., 10.,  8., 10.,\n",
       "        8., 10., 10., 10., 10., 10., 10., 10., 10., 10., 10., 10., 10.,\n",
       "       10.,  2., 10., 10., 10., 10., 10., 10., 10., 10., 10., 10., 10.,\n",
       "       10., 10., 10., 10., 10., 10.,  2., 10., 10.])"
      ]
     },
     "execution_count": 22,
     "metadata": {},
     "output_type": "execute_result"
    }
   ],
   "source": [
    "y_pred_v=clf_rf.predict(Xval)\n",
    "y_pred_v"
   ]
  },
  {
   "cell_type": "code",
   "execution_count": 29,
   "metadata": {},
   "outputs": [
    {
     "data": {
      "text/html": [
       "<div>\n",
       "<style scoped>\n",
       "    .dataframe tbody tr th:only-of-type {\n",
       "        vertical-align: middle;\n",
       "    }\n",
       "\n",
       "    .dataframe tbody tr th {\n",
       "        vertical-align: top;\n",
       "    }\n",
       "\n",
       "    .dataframe thead th {\n",
       "        text-align: right;\n",
       "    }\n",
       "</style>\n",
       "<table border=\"1\" class=\"dataframe\">\n",
       "  <thead>\n",
       "    <tr style=\"text-align: right;\">\n",
       "      <th></th>\n",
       "      <th>y_pred_v</th>\n",
       "      <th>yval</th>\n",
       "    </tr>\n",
       "  </thead>\n",
       "  <tbody>\n",
       "    <tr>\n",
       "      <th>0</th>\n",
       "      <td>10.0</td>\n",
       "      <td>8.0</td>\n",
       "    </tr>\n",
       "    <tr>\n",
       "      <th>1</th>\n",
       "      <td>10.0</td>\n",
       "      <td>10.0</td>\n",
       "    </tr>\n",
       "    <tr>\n",
       "      <th>2</th>\n",
       "      <td>10.0</td>\n",
       "      <td>10.0</td>\n",
       "    </tr>\n",
       "    <tr>\n",
       "      <th>3</th>\n",
       "      <td>10.0</td>\n",
       "      <td>2.0</td>\n",
       "    </tr>\n",
       "    <tr>\n",
       "      <th>4</th>\n",
       "      <td>10.0</td>\n",
       "      <td>10.0</td>\n",
       "    </tr>\n",
       "    <tr>\n",
       "      <th>5</th>\n",
       "      <td>10.0</td>\n",
       "      <td>10.0</td>\n",
       "    </tr>\n",
       "    <tr>\n",
       "      <th>6</th>\n",
       "      <td>10.0</td>\n",
       "      <td>8.0</td>\n",
       "    </tr>\n",
       "    <tr>\n",
       "      <th>7</th>\n",
       "      <td>10.0</td>\n",
       "      <td>10.0</td>\n",
       "    </tr>\n",
       "    <tr>\n",
       "      <th>8</th>\n",
       "      <td>10.0</td>\n",
       "      <td>10.0</td>\n",
       "    </tr>\n",
       "    <tr>\n",
       "      <th>9</th>\n",
       "      <td>10.0</td>\n",
       "      <td>4.0</td>\n",
       "    </tr>\n",
       "    <tr>\n",
       "      <th>10</th>\n",
       "      <td>10.0</td>\n",
       "      <td>4.0</td>\n",
       "    </tr>\n",
       "    <tr>\n",
       "      <th>11</th>\n",
       "      <td>2.0</td>\n",
       "      <td>2.0</td>\n",
       "    </tr>\n",
       "    <tr>\n",
       "      <th>12</th>\n",
       "      <td>10.0</td>\n",
       "      <td>9.0</td>\n",
       "    </tr>\n",
       "    <tr>\n",
       "      <th>13</th>\n",
       "      <td>10.0</td>\n",
       "      <td>9.0</td>\n",
       "    </tr>\n",
       "    <tr>\n",
       "      <th>14</th>\n",
       "      <td>2.0</td>\n",
       "      <td>1.0</td>\n",
       "    </tr>\n",
       "    <tr>\n",
       "      <th>15</th>\n",
       "      <td>10.0</td>\n",
       "      <td>8.0</td>\n",
       "    </tr>\n",
       "    <tr>\n",
       "      <th>16</th>\n",
       "      <td>10.0</td>\n",
       "      <td>8.0</td>\n",
       "    </tr>\n",
       "    <tr>\n",
       "      <th>17</th>\n",
       "      <td>10.0</td>\n",
       "      <td>6.0</td>\n",
       "    </tr>\n",
       "    <tr>\n",
       "      <th>18</th>\n",
       "      <td>10.0</td>\n",
       "      <td>10.0</td>\n",
       "    </tr>\n",
       "    <tr>\n",
       "      <th>19</th>\n",
       "      <td>10.0</td>\n",
       "      <td>6.0</td>\n",
       "    </tr>\n",
       "  </tbody>\n",
       "</table>\n",
       "</div>"
      ],
      "text/plain": [
       "    y_pred_v  yval\n",
       "0       10.0   8.0\n",
       "1       10.0  10.0\n",
       "2       10.0  10.0\n",
       "3       10.0   2.0\n",
       "4       10.0  10.0\n",
       "5       10.0  10.0\n",
       "6       10.0   8.0\n",
       "7       10.0  10.0\n",
       "8       10.0  10.0\n",
       "9       10.0   4.0\n",
       "10      10.0   4.0\n",
       "11       2.0   2.0\n",
       "12      10.0   9.0\n",
       "13      10.0   9.0\n",
       "14       2.0   1.0\n",
       "15      10.0   8.0\n",
       "16      10.0   8.0\n",
       "17      10.0   6.0\n",
       "18      10.0  10.0\n",
       "19      10.0   6.0"
      ]
     },
     "execution_count": 29,
     "metadata": {},
     "output_type": "execute_result"
    }
   ],
   "source": [
    "df = pd.DataFrame(list(zip(y_pred_v, yval)),\n",
    "                                 columns = ['y_pred_v', 'yval'])\n",
    "df.head(20)"
   ]
  },
  {
   "cell_type": "code",
   "execution_count": 24,
   "metadata": {},
   "outputs": [
    {
     "name": "stdout",
     "output_type": "stream",
     "text": [
      "0.9959514170040485\n"
     ]
    }
   ],
   "source": [
    "from sklearn.metrics import accuracy_score\n",
    "\n",
    "accuracy=accuracy_score(ytr, y_pred)\n",
    "print(accuracy)"
   ]
  },
  {
   "cell_type": "code",
   "execution_count": 25,
   "metadata": {},
   "outputs": [
    {
     "name": "stdout",
     "output_type": "stream",
     "text": [
      "0.41013824884792627\n"
     ]
    }
   ],
   "source": [
    "accuracy=accuracy_score(yval, y_pred_v)\n",
    "print(accuracy)"
   ]
  },
  {
   "cell_type": "code",
   "execution_count": 26,
   "metadata": {},
   "outputs": [
    {
     "name": "stdout",
     "output_type": "stream",
     "text": [
      "              precision    recall  f1-score   support\n",
      "\n",
      "         1.0       1.00      1.00      1.00         1\n",
      "         2.0       0.99      1.00      0.99        92\n",
      "         4.0       1.00      1.00      1.00        26\n",
      "         5.0       1.00      1.00      1.00         1\n",
      "         6.0       1.00      1.00      1.00        37\n",
      "         7.0       1.00      1.00      1.00         2\n",
      "         8.0       1.00      0.99      1.00       109\n",
      "         9.0       1.00      1.00      1.00         1\n",
      "        10.0       1.00      1.00      1.00       225\n",
      "\n",
      "    accuracy                           1.00       494\n",
      "   macro avg       1.00      1.00      1.00       494\n",
      "weighted avg       1.00      1.00      1.00       494\n",
      "\n"
     ]
    }
   ],
   "source": [
    "from sklearn.metrics import classification_report\n",
    "\n",
    "print(classification_report(ytr, y_pred))"
   ]
  },
  {
   "cell_type": "code",
   "execution_count": 27,
   "metadata": {},
   "outputs": [
    {
     "name": "stdout",
     "output_type": "stream",
     "text": [
      "              precision    recall  f1-score   support\n",
      "\n",
      "         1.0       0.00      0.00      0.00         4\n",
      "         2.0       0.58      0.24      0.34        45\n",
      "         4.0       0.00      0.00      0.00        23\n",
      "         6.0       0.00      0.00      0.00        26\n",
      "         7.0       0.00      0.00      0.00         4\n",
      "         8.0       0.25      0.09      0.13        33\n",
      "         9.0       0.00      0.00      0.00         3\n",
      "        10.0       0.41      0.95      0.57        79\n",
      "\n",
      "    accuracy                           0.41       217\n",
      "   macro avg       0.15      0.16      0.13       217\n",
      "weighted avg       0.31      0.41      0.30       217\n",
      "\n"
     ]
    }
   ],
   "source": [
    "print(classification_report(yval, y_pred_v))"
   ]
  },
  {
   "cell_type": "code",
   "execution_count": null,
   "metadata": {},
   "outputs": [],
   "source": []
  }
 ],
 "metadata": {
  "kernelspec": {
   "display_name": "Python 3",
   "language": "python",
   "name": "python3"
  },
  "language_info": {
   "codemirror_mode": {
    "name": "ipython",
    "version": 3
   },
   "file_extension": ".py",
   "mimetype": "text/x-python",
   "name": "python",
   "nbconvert_exporter": "python",
   "pygments_lexer": "ipython3",
   "version": "3.7.6"
  }
 },
 "nbformat": 4,
 "nbformat_minor": 4
}
