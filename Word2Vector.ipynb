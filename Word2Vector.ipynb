{
 "cells": [
  {
   "cell_type": "code",
   "execution_count": 3,
   "metadata": {},
   "outputs": [],
   "source": [
    "import warnings\n",
    "warnings.filterwarnings('ignore')\n",
    "#%matplotlib inline\n",
    "from sklearn.metrics import roc_auc_score\n",
    "import numpy as np\n",
    "import pandas as pd\n",
    "\n",
    "##################  Загрузка данных\n",
    "Xtrain = pd.read_csv('D:\\Coding\\data\\phone_user_review_file_60.csv', encoding= 'utf-8')\n",
    "Xtest = pd.read_csv('D:\\Coding\\data\\phone_user_review_file_40.csv', encoding= 'utf-8')"
   ]
  },
  {
   "cell_type": "code",
   "execution_count": 5,
   "metadata": {},
   "outputs": [
    {
     "name": "stdout",
     "output_type": "stream",
     "text": [
      "Xtrain.shape():  (163837, 11) \n",
      "Xtest.shape():  (98284, 11)\n"
     ]
    }
   ],
   "source": [
    "print(\"Xtrain.shape(): \", Xtrain.shape,\n",
    "      \"\\nXtest.shape(): \", Xtest.shape)"
   ]
  },
  {
   "cell_type": "code",
   "execution_count": 6,
   "metadata": {},
   "outputs": [
    {
     "name": "stdout",
     "output_type": "stream",
     "text": [
      "Xtrain.head():\n",
      "   lang  score                                            extract\n",
      "0   en    8.0  I've had the phone for awhile and it's a prett...\n",
      "1   en    6.0  to be clear it is not the sellers fault that t...\n",
      "2   en    9.0  Well i love this phone. i have had ton of phon...\n",
      "3   en    4.0  I have had my Instinct for several months now ...\n",
      "4   en    6.0  i have had this instinct phone for about two m...\n"
     ]
    }
   ],
   "source": [
    "print(\"Xtrain.head():\\n\", Xtrain[['lang', 'score', 'extract']].head())"
   ]
  },
  {
   "cell_type": "code",
   "execution_count": null,
   "metadata": {},
   "outputs": [],
   "source": [
    "##################  Препроцессинг"
   ]
  },
  {
   "cell_type": "code",
   "execution_count": 7,
   "metadata": {},
   "outputs": [
    {
     "name": "stderr",
     "output_type": "stream",
     "text": [
      "[nltk_data] Downloading package stopwords to\n",
      "[nltk_data]     C:\\Users\\Алексей\\AppData\\Roaming\\nltk_data...\n",
      "[nltk_data]   Package stopwords is already up-to-date!\n"
     ]
    }
   ],
   "source": [
    "import nltk\n",
    "nltk.download('stopwords')\n",
    "from sklearn.metrics import mean_squared_error\n",
    "import re #regular expressions\n",
    "from nltk.corpus import stopwords #stopwords\n",
    "\n",
    "import pymorphy2 #Для лемматизации\n",
    "morph = pymorphy2.MorphAnalyzer()\n",
    "\n",
    "#Добавление списка stopwords\n",
    "stops = set(stopwords.words(\"english\"))"
   ]
  },
  {
   "cell_type": "code",
   "execution_count": 8,
   "metadata": {},
   "outputs": [],
   "source": [
    "def review_to_wordlist(review):\n",
    "    #1) - регулярное выражение к тексту\n",
    "    review_text = re.sub(\"[^а-яА-Яa-zA-Z]\",\" \", review)\n",
    "    #2) - разделение текста на список слов\n",
    "    words = review_text.lower().split()\n",
    "    #3) - удаление stopwords из списка слов\n",
    "    words = [w for w in words if not w in stops]\n",
    "    #4) - лемматизация слов\n",
    "    #words = [morph.parse(w)[0].normal_form for w in words ]\n",
    "    return(words)"
   ]
  },
  {
   "cell_type": "code",
   "execution_count": 9,
   "metadata": {},
   "outputs": [],
   "source": [
    "# Преобразуем время\n",
    "# Разделение времени на год и месяц\n",
    "Xtrain['date'] = Xtrain['date'].apply(pd.to_datetime)\n",
    "Xtrain['year'] = Xtrain['date'].apply(lambda x: x.year)\n",
    "Xtrain['month'] = Xtrain['date'].apply(lambda x: x.month)"
   ]
  },
  {
   "cell_type": "code",
   "execution_count": 10,
   "metadata": {},
   "outputs": [],
   "source": [
    "#Валидация на 2016 годе\n",
    "Xtr = Xtrain[(Xtrain['year']==2015) & (Xtrain.lang == 'en')].head(200)\n",
    "Xval = Xtrain[(Xtrain['year']==2016) & (Xtrain.lang == 'en')].head(50)\n",
    "#score - оценка телефона\n",
    "ytr = Xtr['score']\n",
    "yval = Xval['score']"
   ]
  },
  {
   "cell_type": "code",
   "execution_count": 11,
   "metadata": {},
   "outputs": [
    {
     "name": "stdout",
     "output_type": "stream",
     "text": [
      "Xtr.shape():  (200, 13) \n",
      "Xval.shape():  (50, 13) \n",
      "ytr.mean():  7.925 \n",
      "yval.mean():  8.22\n"
     ]
    }
   ],
   "source": [
    "print(\"Xtr.shape(): \", Xtr.shape,\n",
    "      \"\\nXval.shape(): \", Xval.shape,\n",
    "      \"\\nytr.mean(): \", ytr.mean(),\n",
    "      \"\\nyval.mean(): \", yval.mean()\n",
    "      )"
   ]
  },
  {
   "cell_type": "code",
   "execution_count": 12,
   "metadata": {},
   "outputs": [],
   "source": [
    "data = pd.concat([Xtr,Xval],axis = 0,ignore_index = True)\n",
    "\n",
    "#у нас есть nan, поэтому преобразуем их к строке\n",
    "data['content_clear'] = data['extract'].apply(str)\n",
    "data['content_clear'] = data['content_clear'].apply(review_to_wordlist)"
   ]
  },
  {
   "cell_type": "code",
   "execution_count": 13,
   "metadata": {},
   "outputs": [
    {
     "name": "stdout",
     "output_type": "stream",
     "text": [
      "1-й комментрий: \n",
      "data['content_clear'][0]:  ['price', 'expected', 'phone', 'beat', 'work']\n"
     ]
    }
   ],
   "source": [
    "print(\"1-й комментрий: \\ndata['content_clear'][0]: \", data['content_clear'][0])"
   ]
  },
  {
   "cell_type": "markdown",
   "metadata": {},
   "source": [
    "############## Word2vec ##############"
   ]
  },
  {
   "cell_type": "code",
   "execution_count": 14,
   "metadata": {},
   "outputs": [],
   "source": [
    "from gensim.models import word2vec\n",
    "from multiprocessing import cpu_count\n",
    "\n",
    "######## Тренировка модели\n",
    "# size - размер вектора\n",
    "#min_count - игнорирует все слова с total frequency меньше заданного значения\n",
    "#workers - количество ядер PC\n",
    "#window - максимальная дистанция между текущем словом и прогнозируемом в предложении\n",
    "\n",
    "model_w2v = word2vec.Word2Vec(data['content_clear'], size=50, window=10, workers=cpu_count())\n",
    "w2v = dict(zip(model_w2v.wv.index2word, model_w2v.wv.syn0))"
   ]
  },
  {
   "cell_type": "code",
   "execution_count": 18,
   "metadata": {},
   "outputs": [
    {
     "data": {
      "text/plain": [
       "[('price', 0.6293317675590515),\n",
       " ('smooth', 0.6030991077423096),\n",
       " ('good', 0.5598933696746826),\n",
       " ('expected', 0.5186594128608704),\n",
       " ('used', 0.49390512704849243),\n",
       " ('one', 0.48948007822036743),\n",
       " ('fast', 0.4750627279281616),\n",
       " ('product', 0.47186216711997986),\n",
       " ('amazing', 0.4704839885234833),\n",
       " ('home', 0.4695117473602295)]"
      ]
     },
     "execution_count": 18,
     "metadata": {},
     "output_type": "execute_result"
    }
   ],
   "source": [
    "# Посмотрим чему выучилась модель:\n",
    "model_w2v.wv.most_similar(positive=['phone'])"
   ]
  },
  {
   "cell_type": "markdown",
   "metadata": {},
   "source": [
    "############## mean_vectorizer ##############"
   ]
  },
  {
   "cell_type": "code",
   "execution_count": 19,
   "metadata": {},
   "outputs": [],
   "source": [
    "class mean_vectorizer(object):\n",
    "    def __init__(self, word2vec):\n",
    "        self.word2vec = word2vec\n",
    "        self.dim = len(next(iter(w2v.values())))\n",
    "\n",
    "    def fit(self, X):\n",
    "        return self\n",
    "\n",
    "    def transform(self, X):\n",
    "        return np.array([\n",
    "            np.mean([self.word2vec[w] for w in words if w in self.word2vec]\n",
    "                    or [np.zeros(self.dim)], axis=0)\n",
    "            for words in X\n",
    "        ])"
   ]
  },
  {
   "cell_type": "code",
   "execution_count": 20,
   "metadata": {},
   "outputs": [
    {
     "data": {
      "text/plain": [
       "(250, 50)"
      ]
     },
     "execution_count": 20,
     "metadata": {},
     "output_type": "execute_result"
    }
   ],
   "source": [
    "data_mean = mean_vectorizer(w2v).fit(data['content_clear']).transform(data['content_clear'])\n",
    "data_mean.shape"
   ]
  },
  {
   "cell_type": "code",
   "execution_count": 21,
   "metadata": {},
   "outputs": [],
   "source": [
    "def split(train,y,ratio):\n",
    "    idx = ratio\n",
    "    return train[:idx, :], train[idx:, :], y[:idx], y[idx:]\n",
    "y = data['score']\n",
    "Xtr, Xval, ytr, yval = split(data_mean, y,200)"
   ]
  },
  {
   "cell_type": "code",
   "execution_count": 22,
   "metadata": {},
   "outputs": [
    {
     "name": "stdout",
     "output_type": "stream",
     "text": [
      "Xtr.shape():  (200, 50) \n",
      "Xval.shape():  (50, 50) \n",
      "ytr.mean():  7.925 \n",
      "yval.mean():  8.22\n"
     ]
    }
   ],
   "source": [
    "print(\"Xtr.shape(): \", Xtr.shape,\n",
    "      \"\\nXval.shape(): \", Xval.shape,\n",
    "      \"\\nytr.mean(): \", ytr.mean(),\n",
    "      \"\\nyval.mean(): \", yval.mean()\n",
    "      )"
   ]
  },
  {
   "cell_type": "code",
   "execution_count": 23,
   "metadata": {},
   "outputs": [
    {
     "name": "stdout",
     "output_type": "stream",
     "text": [
      "Ошибка на трейне 7.16345328985753\n",
      "Ошибка на валидации 6.337549684390984\n",
      "Ошибка на валидации предсказываем медиану 6.3\n"
     ]
    }
   ],
   "source": [
    "from sklearn.linear_model import Ridge\n",
    "from sklearn.metrics import mean_squared_error\n",
    "model_ridge_01 = Ridge(alpha = 1,random_state=7)\n",
    "model_ridge_01.fit(Xtr, ytr)\n",
    "train_preds = model_ridge_01.predict(Xtr)\n",
    "valid_preds = model_ridge_01.predict(Xval)\n",
    "ymed = np.ones(len(valid_preds))*ytr.median()\n",
    "print('Ошибка на трейне',mean_squared_error(ytr, train_preds))\n",
    "print('Ошибка на валидации',mean_squared_error(yval, valid_preds))\n",
    "print('Ошибка на валидации предсказываем медиану',mean_squared_error(yval, ymed))"
   ]
  },
  {
   "cell_type": "markdown",
   "metadata": {},
   "source": [
    "############## tfidf преобразование ##############"
   ]
  },
  {
   "cell_type": "code",
   "execution_count": 24,
   "metadata": {},
   "outputs": [],
   "source": [
    "#пропишем класс выполняющий tfidf преобразование.\n",
    "from sklearn.feature_extraction.text import TfidfVectorizer\n",
    "from collections import defaultdict\n",
    "\n",
    "class tfidf_vectorizer(object):\n",
    "    def __init__(self, word2vec):\n",
    "        self.word2vec = word2vec\n",
    "        self.word2weight = None\n",
    "        self.dim = len(next(iter(w2v.values())))\n",
    "\n",
    "    def fit(self, X):\n",
    "        tfidf = TfidfVectorizer(analyzer=lambda x: x)\n",
    "        tfidf.fit(X)\n",
    "        max_idf = max(tfidf.idf_)\n",
    "        self.word2weight = defaultdict(\n",
    "            lambda: max_idf,\n",
    "            [(w, tfidf.idf_[i]) for w, i in tfidf.vocabulary_.items()])\n",
    "\n",
    "        return self\n",
    "\n",
    "    def transform(self, X):\n",
    "        return np.array([\n",
    "                np.mean([self.word2vec[w] * self.word2weight[w]\n",
    "                         for w in words if w in self.word2vec] or\n",
    "                        [np.zeros(self.dim)], axis=0)\n",
    "                for words in X\n",
    "            ])"
   ]
  },
  {
   "cell_type": "code",
   "execution_count": 25,
   "metadata": {},
   "outputs": [
    {
     "name": "stdout",
     "output_type": "stream",
     "text": [
      "data_mean_tfidf.shape:  (250, 50)\n"
     ]
    }
   ],
   "source": [
    "data_mean_tfidf = tfidf_vectorizer(w2v).fit(data['content_clear']).transform(data['content_clear'])\n",
    "print(\"data_mean_tfidf.shape: \", data_mean_tfidf.shape)"
   ]
  },
  {
   "cell_type": "code",
   "execution_count": 26,
   "metadata": {},
   "outputs": [],
   "source": [
    "y = data['score']\n",
    "Xtr, Xval, ytr, yval = split(data_mean_tfidf, y,200)"
   ]
  },
  {
   "cell_type": "code",
   "execution_count": 27,
   "metadata": {},
   "outputs": [
    {
     "name": "stdout",
     "output_type": "stream",
     "text": [
      "Xtr.shape():  (200, 50) \n",
      "Xval.shape():  (50, 50) \n",
      "ytr.mean():  7.925 \n",
      "yval.mean():  8.22\n"
     ]
    }
   ],
   "source": [
    "print(\"Xtr.shape(): \", Xtr.shape,\n",
    "      \"\\nXval.shape(): \", Xval.shape,\n",
    "      \"\\nytr.mean(): \", ytr.mean(),\n",
    "      \"\\nyval.mean(): \", yval.mean()\n",
    "      )\n"
   ]
  },
  {
   "cell_type": "code",
   "execution_count": 28,
   "metadata": {},
   "outputs": [
    {
     "name": "stdout",
     "output_type": "stream",
     "text": [
      "Ошибка на трейне 7.078471483586543\n",
      "Ошибка на валидации 6.353230115604405\n",
      "Ошибка на валидации предсказываем медиану 6.3\n"
     ]
    }
   ],
   "source": [
    "model_ridge_02 = Ridge(alpha = 1,random_state=7)\n",
    "model_ridge_02.fit(Xtr, ytr)\n",
    "train_preds = model_ridge_02.predict(Xtr)\n",
    "valid_preds = model_ridge_02.predict(Xval)\n",
    "ymed = np.ones(len(valid_preds))*ytr.median()\n",
    "print('Ошибка на трейне',mean_squared_error(ytr, train_preds))\n",
    "print('Ошибка на валидации',mean_squared_error(yval, valid_preds))\n",
    "print('Ошибка на валидации предсказываем медиану',mean_squared_error(yval, ymed))"
   ]
  },
  {
   "cell_type": "markdown",
   "metadata": {},
   "source": [
    "############## Нейронная сеть ##############"
   ]
  },
  {
   "cell_type": "code",
   "execution_count": 29,
   "metadata": {},
   "outputs": [
    {
     "name": "stderr",
     "output_type": "stream",
     "text": [
      "Using TensorFlow backend.\n"
     ]
    }
   ],
   "source": [
    "# подключим библиотеки keras\n",
    "from keras.models import Sequential, Model\n",
    "from keras.layers import Dense, Dropout, Activation, Input\n",
    "from keras.preprocessing.text import Tokenizer\n",
    "from keras import regularizers\n",
    "from keras.wrappers.scikit_learn import KerasRegressor"
   ]
  },
  {
   "cell_type": "code",
   "execution_count": 30,
   "metadata": {},
   "outputs": [],
   "source": [
    "# Опишем нашу сеть.\n",
    "def baseline_model():\n",
    "    model_neuraln = Sequential()\n",
    "    model_neuraln.add(Dense(128, input_dim=Xtr.shape[1], kernel_initializer='normal', activation='relu'))\n",
    "    model_neuraln.add(Dropout(0.2))\n",
    "    model_neuraln.add(Dense(64, activation='relu'))\n",
    "    model_neuraln.add(Dropout(0.5))\n",
    "    model_neuraln.add(Dense(1, kernel_initializer='normal'))\n",
    "\n",
    "    model_neuraln.compile(loss='mean_squared_error', optimizer='adam')\n",
    "    return model_neuraln"
   ]
  },
  {
   "cell_type": "code",
   "execution_count": 31,
   "metadata": {},
   "outputs": [
    {
     "name": "stdout",
     "output_type": "stream",
     "text": [
      "Train on 200 samples, validate on 50 samples\n",
      "Epoch 1/20\n",
      " - 1s - loss: 69.8631 - val_loss: 73.4747\n",
      "Epoch 2/20\n",
      " - 0s - loss: 69.5248 - val_loss: 73.0344\n",
      "Epoch 3/20\n",
      " - 0s - loss: 69.0725 - val_loss: 72.4351\n",
      "Epoch 4/20\n",
      " - 0s - loss: 68.4018 - val_loss: 71.6445\n",
      "Epoch 5/20\n",
      " - 0s - loss: 67.6287 - val_loss: 70.6098\n",
      "Epoch 6/20\n",
      " - 0s - loss: 66.4954 - val_loss: 69.2637\n",
      "Epoch 7/20\n",
      " - 0s - loss: 65.0629 - val_loss: 67.5160\n",
      "Epoch 8/20\n",
      " - 0s - loss: 63.3038 - val_loss: 65.3226\n",
      "Epoch 9/20\n",
      " - 0s - loss: 61.0869 - val_loss: 62.6234\n",
      "Epoch 10/20\n",
      " - 0s - loss: 57.9167 - val_loss: 59.3562\n",
      "Epoch 11/20\n",
      " - 0s - loss: 54.9482 - val_loss: 55.4730\n",
      "Epoch 12/20\n",
      " - 0s - loss: 50.6073 - val_loss: 50.9733\n",
      "Epoch 13/20\n",
      " - 0s - loss: 46.7854 - val_loss: 45.8390\n",
      "Epoch 14/20\n",
      " - 0s - loss: 41.0492 - val_loss: 40.1228\n",
      "Epoch 15/20\n",
      " - 0s - loss: 36.2790 - val_loss: 34.0826\n",
      "Epoch 16/20\n",
      " - 0s - loss: 30.0742 - val_loss: 27.8519\n",
      "Epoch 17/20\n",
      " - 0s - loss: 23.5476 - val_loss: 21.8328\n",
      "Epoch 18/20\n",
      " - 0s - loss: 19.5219 - val_loss: 16.4140\n",
      "Epoch 19/20\n",
      " - 0s - loss: 14.7762 - val_loss: 12.0443\n",
      "Epoch 20/20\n",
      " - 0s - loss: 12.1509 - val_loss: 9.1230\n"
     ]
    },
    {
     "data": {
      "text/plain": [
       "<keras.callbacks.callbacks.History at 0x2174417dd48>"
      ]
     },
     "execution_count": 31,
     "metadata": {},
     "output_type": "execute_result"
    }
   ],
   "source": [
    "estimator = KerasRegressor(build_fn=baseline_model,epochs=20, nb_epoch=20, batch_size=64,validation_data=(Xval, yval), verbose=2)\n",
    "estimator.fit(Xtr, ytr)"
   ]
  },
  {
   "cell_type": "markdown",
   "metadata": {},
   "source": [
    "############## Linear Regression ##############"
   ]
  },
  {
   "cell_type": "code",
   "execution_count": 32,
   "metadata": {},
   "outputs": [
    {
     "name": "stdout",
     "output_type": "stream",
     "text": [
      "\n",
      "Предсказанные моделью значения:\n",
      " [ 5.62071133  7.5394154  10.81896192  7.33440152  8.59684392  8.79293137\n",
      "  7.55313844  8.78042725  5.58322179  6.9229608 ]\n"
     ]
    }
   ],
   "source": [
    "import seaborn as sns\n",
    "from sklearn.linear_model import LinearRegression\n",
    "import matplotlib.pyplot as plt\n",
    "\n",
    "linear_regression_01 = LinearRegression()\n",
    "model = linear_regression_01.fit(Xtr, ytr)\n",
    "\n",
    "predicted_Xtr = model.predict(Xtr)\n",
    "predicted_Xval = model.predict(Xval)\n",
    "\n",
    "print(\"\\nПредсказанные моделью значения:\\n\", predicted_Xtr[:10])"
   ]
  },
  {
   "cell_type": "code",
   "execution_count": 33,
   "metadata": {},
   "outputs": [
    {
     "data": {
      "image/png": "[encoded data removed]",
      "text/plain": [
       "<Figure size 432x288 with 1 Axes>"
      ]
     },
     "metadata": {
      "needs_background": "light"
     },
     "output_type": "display_data"
    }
   ],
   "source": [
    "plt.figure(figsize=(6, 4))\n",
    "sns.distplot(ytr)\n",
    "\n",
    "plt.show()"
   ]
  },
  {
   "cell_type": "code",
   "execution_count": 34,
   "metadata": {},
   "outputs": [
    {
     "name": "stdout",
     "output_type": "stream",
     "text": [
      "   Prediction  Ground truth\n",
      "0    5.620711           4.0\n",
      "1    7.539415           6.0\n",
      "2   10.818962          10.0\n",
      "3    7.334402           2.0\n",
      "4    8.596844          10.0\n"
     ]
    }
   ],
   "source": [
    "########## Сревнение предсказания и реального значения (оценка модели)\n",
    "\n",
    "predicted_truth_df = pd.DataFrame(list(zip(predicted_Xtr, ytr)))\n",
    "predicted_truth_df.columns = ['Prediction', 'Ground truth']\n",
    "print(predicted_truth_df.head())"
   ]
  },
  {
   "cell_type": "code",
   "execution_count": 35,
   "metadata": {},
   "outputs": [
    {
     "data": {
      "image/png": "[encoded data removed]",
      "text/plain": [
       "<Figure size 432x288 with 1 Axes>"
      ]
     },
     "metadata": {
      "needs_background": "light"
     },
     "output_type": "display_data"
    }
   ],
   "source": [
    "########## Scatter plot трейна (оценка модели)\n",
    "\n",
    "plt.figure(figsize=(6, 4))\n",
    "plt.scatter(predicted_Xtr, ytr)\n",
    "plt.xlabel('Predicted')\n",
    "plt.ylabel('Ground truth')\n",
    "\n",
    "plt.plot([0, 9], [0, 9], color = \"red\")\n",
    "plt.tight_layout()\n",
    "plt.show()"
   ]
  },
  {
   "cell_type": "code",
   "execution_count": 36,
   "metadata": {},
   "outputs": [
    {
     "data": {
      "image/png": "[encoded data removed]",
      "text/plain": [
       "<Figure size 432x288 with 1 Axes>"
      ]
     },
     "metadata": {
      "needs_background": "light"
     },
     "output_type": "display_data"
    }
   ],
   "source": [
    "########## Scatter plot валидация (оценка модели)\n",
    "\n",
    "plt.figure(figsize=(6, 4))\n",
    "plt.scatter(predicted_Xval, yval)\n",
    "plt.xlabel('Predicted')\n",
    "plt.ylabel('Ground truth')\n",
    "\n",
    "plt.plot([0, 9], [0, 9], color = \"red\")\n",
    "plt.tight_layout()\n",
    "plt.show()"
   ]
  },
  {
   "cell_type": "code",
   "execution_count": 37,
   "metadata": {},
   "outputs": [
    {
     "name": "stdout",
     "output_type": "stream",
     "text": [
      "Ошибка на трейне 7.078471483586543\n",
      "Ошибка на валидации 6.353230115604405\n",
      "Ошибка на валидации предсказываем медиану 6.3\n"
     ]
    }
   ],
   "source": [
    "ymed = np.ones(len(predicted_Xval))*ytr.median()\n",
    "print('Ошибка на трейне',mean_squared_error(ytr, train_preds))\n",
    "print('Ошибка на валидации',mean_squared_error(yval, valid_preds))\n",
    "print('Ошибка на валидации предсказываем медиану',mean_squared_error(yval, ymed))"
   ]
  },
  {
   "cell_type": "markdown",
   "metadata": {},
   "source": [
    "############## Random Forest ##############"
   ]
  },
  {
   "cell_type": "code",
   "execution_count": 38,
   "metadata": {},
   "outputs": [],
   "source": [
    "y = data['score']\n",
    "X_train, X_test, y_train, y_test = split(data_mean, y,200)"
   ]
  },
  {
   "cell_type": "code",
   "execution_count": 39,
   "metadata": {},
   "outputs": [
    {
     "name": "stdout",
     "output_type": "stream",
     "text": [
      "Xtr.shape():  (200, 50) \n",
      "Xval.shape():  (50, 50) \n",
      "ytr.mean():  7.925 \n",
      "yval.mean():  8.22\n"
     ]
    }
   ],
   "source": [
    "print(\"Xtr.shape(): \", X_train.shape,\n",
    "      \"\\nXval.shape(): \", X_test.shape,\n",
    "      \"\\nytr.mean(): \", y_train.mean(),\n",
    "      \"\\nyval.mean(): \", y_test.mean()\n",
    "      )"
   ]
  },
  {
   "cell_type": "code",
   "execution_count": 40,
   "metadata": {},
   "outputs": [],
   "source": [
    "from sklearn import tree\n",
    "from sklearn.metrics import precision_score, recall_score\n",
    "from sklearn.model_selection import cross_val_score, GridSearchCV, train_test_split\n",
    "from sklearn.tree import DecisionTreeClassifier, plot_tree\n",
    "from matplotlib.pylab import rcParams\n",
    "\n",
    "import pandas as pd\n",
    "import numpy as np\n",
    "import matplotlib.pyplot as plt"
   ]
  },
  {
   "cell_type": "code",
   "execution_count": 41,
   "metadata": {},
   "outputs": [
    {
     "name": "stdout",
     "output_type": "stream",
     "text": [
      "continuous-multioutput\n",
      "multiclass\n"
     ]
    }
   ],
   "source": [
    "from sklearn import utils\n",
    "\n",
    "print(utils.multiclass.type_of_target(X_train))\n",
    "print(utils.multiclass.type_of_target(y_train))"
   ]
  },
  {
   "cell_type": "code",
   "execution_count": 42,
   "metadata": {},
   "outputs": [
    {
     "name": "stdout",
     "output_type": "stream",
     "text": [
      "multilabel-indicator\n",
      "multiclass\n"
     ]
    }
   ],
   "source": [
    "X_train = X_train.astype('int')\n",
    "y_train = y_train.astype('int')\n",
    "X_test = X_test.astype('int')\n",
    "y_test = y_test.astype('int')\n",
    "\n",
    "print(utils.multiclass.type_of_target(X_train))\n",
    "print(utils.multiclass.type_of_target(y_train))"
   ]
  },
  {
   "cell_type": "code",
   "execution_count": 43,
   "metadata": {},
   "outputs": [],
   "source": [
    "from sklearn.ensemble import RandomForestClassifier\n",
    "\n",
    "#Random Forest классификатор\n",
    "clf_rf = RandomForestClassifier()\n",
    "\n",
    "#n_estimators - количество деревьев\n",
    "parameters = {'n_estimators': [10, 20, 30], 'max_depth': [2, 5, 7, 10]}"
   ]
  },
  {
   "cell_type": "code",
   "execution_count": 44,
   "metadata": {},
   "outputs": [
    {
     "data": {
      "text/plain": [
       "GridSearchCV(cv=5, error_score=nan,\n",
       "             estimator=RandomForestClassifier(bootstrap=True, ccp_alpha=0.0,\n",
       "                                              class_weight=None,\n",
       "                                              criterion='gini', max_depth=None,\n",
       "                                              max_features='auto',\n",
       "                                              max_leaf_nodes=None,\n",
       "                                              max_samples=None,\n",
       "                                              min_impurity_decrease=0.0,\n",
       "                                              min_impurity_split=None,\n",
       "                                              min_samples_leaf=1,\n",
       "                                              min_samples_split=2,\n",
       "                                              min_weight_fraction_leaf=0.0,\n",
       "                                              n_estimators=100, n_jobs=None,\n",
       "                                              oob_score=False,\n",
       "                                              random_state=None, verbose=0,\n",
       "                                              warm_start=False),\n",
       "             iid='deprecated', n_jobs=None,\n",
       "             param_grid={'max_depth': [2, 5, 7, 10],\n",
       "                         'n_estimators': [10, 20, 30]},\n",
       "             pre_dispatch='2*n_jobs', refit=True, return_train_score=False,\n",
       "             scoring=None, verbose=0)"
      ]
     },
     "execution_count": 44,
     "metadata": {},
     "output_type": "execute_result"
    }
   ],
   "source": [
    "#классификатор GridSearchCV\n",
    "grid_search_cv_clf_rf = GridSearchCV(clf_rf, parameters, cv=5)\n",
    "grid_search_cv_clf_rf.fit(X_train, y_train)"
   ]
  },
  {
   "cell_type": "code",
   "execution_count": 45,
   "metadata": {},
   "outputs": [
    {
     "name": "stdout",
     "output_type": "stream",
     "text": [
      "\n",
      "Рекомендуемые параметры:  {'max_depth': 2, 'n_estimators': 10}\n"
     ]
    }
   ],
   "source": [
    "print(\n",
    "    '\\nРекомендуемые параметры: ',\n",
    "    grid_search_cv_clf_rf.best_params_ #выбор параметров, для которых значение accuracy будет максимальным на кросс-валидационном множестве, а не просто на обучающей выборке\n",
    ")"
   ]
  },
  {
   "cell_type": "code",
   "execution_count": 46,
   "metadata": {},
   "outputs": [],
   "source": [
    "best_clf = grid_search_cv_clf_rf.best_estimator_"
   ]
  },
  {
   "cell_type": "code",
   "execution_count": 47,
   "metadata": {},
   "outputs": [
    {
     "name": "stdout",
     "output_type": "stream",
     "text": [
      "[0. 0. 0. 0. 0. 0. 0. 0. 0. 0. 0. 0. 0. 0. 0. 0. 0. 0. 0. 0. 0. 0. 0. 0.\n",
      " 0. 0. 0. 0. 0. 0. 0. 0. 0. 0. 0. 0. 0. 0. 0. 0. 0. 0. 0. 0. 0. 0. 0. 0.\n",
      " 0. 0.]\n"
     ]
    }
   ],
   "source": [
    "feature_importances = best_clf.feature_importances_\n",
    "\n",
    "#Набор фичей, который показывает по каким из них нужно было сделать сплиты,\n",
    "# чтобы добиться максимольного снижения энтропии данных\n",
    "#feature_importances_df = pd.DataFrame({'features':list(X_train),\n",
    "#                                       'feature_importances':feature_importances})\n",
    "print(feature_importances)"
   ]
  },
  {
   "cell_type": "code",
   "execution_count": 48,
   "metadata": {},
   "outputs": [
    {
     "name": "stdout",
     "output_type": "stream",
     "text": [
      "\n",
      "feature_importances_df: \n",
      "                                              features  feature_importances\n",
      "0   [0, 0, 0, 0, 0, 0, 0, 0, 0, 0, 0, 0, 0, 0, 0, ...                  0.0\n",
      "37  [0, 0, 0, 0, 0, 0, 0, 0, 0, 0, 0, 0, 0, 0, 0, ...                  0.0\n",
      "27  [0, 0, 0, 0, 0, 0, 0, 0, 0, 0, 0, 0, 0, 0, 0, ...                  0.0\n",
      "28  [0, 0, 0, 0, 0, 0, 0, 0, 0, 0, 0, 0, 0, 0, 0, ...                  0.0\n",
      "29  [0, 0, 0, 0, 0, 0, 0, 0, 0, 0, 0, 0, 0, 0, 0, ...                  0.0\n",
      "30  [0, 0, 0, 0, 0, 0, 0, 0, 0, 0, 0, 0, 0, 0, 0, ...                  0.0\n",
      "31  [0, 0, 0, 0, 0, 0, 0, 0, 0, 0, 0, 0, 0, 0, 0, ...                  0.0\n",
      "32  [0, 0, 0, 0, 0, 0, 0, 0, 0, 0, 0, 0, 0, 0, 0, ...                  0.0\n",
      "33  [0, 0, 0, 0, 0, 0, 0, 0, 0, 0, 0, 0, 0, 0, 0, ...                  0.0\n",
      "34  [0, 0, 0, 0, 0, 0, 0, 0, 0, 0, 0, 0, 0, 0, 0, ...                  0.0\n",
      "35  [0, 0, 0, 0, 0, 0, 0, 0, 0, 0, 0, 0, 0, 0, 0, ...                  0.0\n",
      "36  [0, 0, 0, 0, 0, 0, 0, 0, 0, 0, 0, 0, 0, 0, 0, ...                  0.0\n",
      "38  [0, 0, 0, 0, 0, 0, 0, 0, 0, 0, 0, 0, 0, 0, 0, ...                  0.0\n",
      "1   [0, 0, 0, 0, 0, 0, 0, 0, 0, 0, 0, 0, 0, 0, 0, ...                  0.0\n",
      "39  [0, 0, 0, 0, 0, 0, 0, 0, 0, 0, 0, 0, 0, 0, 0, ...                  0.0\n",
      "40  [0, 0, 0, 0, 0, 0, 0, 0, 0, 0, 0, 0, 0, 0, 0, ...                  0.0\n",
      "41  [0, 0, 0, 0, 0, 0, 0, 0, 0, 0, 0, 0, 0, 0, 0, ...                  0.0\n",
      "42  [0, 0, 0, 0, 0, 0, 0, 0, 0, 0, 0, 0, 0, 0, 0, ...                  0.0\n",
      "43  [0, 0, 0, 0, 0, 0, 0, 0, 0, 0, 0, 0, 0, 0, 0, ...                  0.0\n",
      "44  [0, 0, 0, 0, 0, 0, 0, 0, 0, 0, 0, 0, 0, 0, 0, ...                  0.0\n",
      "45  [0, 0, 0, 0, 0, 0, 0, 0, 0, 0, 0, 0, 0, 0, 0, ...                  0.0\n",
      "46  [0, 0, 0, 0, 0, 0, 0, 0, 0, 0, 0, 0, 0, 0, 0, ...                  0.0\n",
      "47  [0, 0, 0, 0, 0, 0, 0, 0, 0, 0, 0, 0, 0, 0, 0, ...                  0.0\n",
      "48  [0, 0, 0, 0, 0, 0, 0, 0, 0, 0, 0, 0, 0, 0, 0, ...                  0.0\n",
      "26  [0, 0, 0, 0, 0, 0, 0, 0, 0, 0, 0, 0, 0, 0, 0, ...                  0.0\n",
      "25  [0, 0, 0, 0, 0, 0, 0, 0, 0, 0, 0, 0, 0, 0, 0, ...                  0.0\n",
      "24  [0, 0, 0, 0, 0, 0, 0, 0, 0, 0, 0, 0, 0, 0, 0, ...                  0.0\n",
      "23  [0, 0, 0, 0, 0, 0, 0, 0, 0, 0, 0, 0, 0, 0, 0, ...                  0.0\n",
      "2   [0, 0, 0, 0, 0, 0, 0, 0, 0, 0, 0, 0, 0, 0, 0, ...                  0.0\n",
      "3   [0, 0, 0, 0, 0, 0, 0, 0, 0, 0, 0, 0, 0, 0, 0, ...                  0.0\n",
      "4   [0, 0, 0, 0, 0, 0, 0, 0, 0, 0, 0, 0, 0, 0, 0, ...                  0.0\n",
      "5   [0, 0, 0, 0, 0, 0, 0, 0, 0, 0, 0, 0, 0, 0, 0, ...                  0.0\n",
      "6   [0, 0, 0, 0, 0, 0, 0, 0, 0, 0, 0, 0, 0, 0, 0, ...                  0.0\n",
      "7   [0, 0, 0, 0, 0, 0, 0, 0, 0, 0, 0, 0, 0, 0, 0, ...                  0.0\n",
      "8   [0, 0, 0, 0, 0, 0, 0, 0, 0, 0, 0, 0, 0, 0, 0, ...                  0.0\n",
      "9   [0, 0, 0, 0, 0, 0, 0, 0, 0, 0, 0, 0, 0, 0, 0, ...                  0.0\n",
      "10  [0, 0, 0, 0, 0, 0, 0, 0, 0, 0, 0, 0, 0, 0, 0, ...                  0.0\n",
      "11  [0, 0, 0, 0, 0, 0, 0, 0, 0, 0, 0, 0, 0, 0, 0, ...                  0.0\n",
      "12  [0, 0, 0, 0, 0, 0, 0, 0, 0, 0, 0, 0, 0, 0, 0, ...                  0.0\n",
      "13  [0, 0, 0, 0, 0, 0, 0, 0, 0, 0, 0, 0, 0, 0, 0, ...                  0.0\n",
      "14  [0, 0, 0, 0, 0, 0, 0, 0, 0, 0, 0, 0, 0, 0, 0, ...                  0.0\n",
      "15  [0, 0, 0, 0, 0, 0, 0, 0, 0, 0, 0, 0, 0, 0, 0, ...                  0.0\n",
      "16  [0, 0, 0, 0, 0, 0, 0, 0, 0, 0, 0, 0, 0, 0, 0, ...                  0.0\n",
      "17  [0, 0, 0, 0, 0, 0, 0, 0, 0, 0, 0, 0, 0, 0, 0, ...                  0.0\n",
      "18  [0, 0, 0, 0, 0, 0, 0, 0, 0, 0, 0, 0, 0, 0, 0, ...                  0.0\n",
      "19  [0, 0, 0, 0, 0, 0, 0, 0, 0, 0, 0, 0, 0, 0, 0, ...                  0.0\n",
      "20  [0, 0, 0, 0, 0, 0, 0, 0, 0, 0, 0, 0, 0, 0, 0, ...                  0.0\n",
      "21  [0, 0, 0, 0, 0, 0, 0, 0, 0, 0, 0, 0, 0, 0, 0, ...                  0.0\n",
      "22  [0, 0, 0, 0, 0, 0, 0, 0, 0, 0, 0, 0, 0, 0, 0, ...                  0.0\n",
      "49  [0, 0, 0, 0, 0, 0, 0, 0, 0, 0, 0, 0, 0, 0, 0, ...                  0.0\n"
     ]
    }
   ],
   "source": [
    "feature_importances_df = pd.DataFrame(list(zip(X_train, feature_importances)),\n",
    "                                 columns = ['features', 'feature_importances'])\n",
    "\n",
    "feature_importances_df = feature_importances_df.sort_values('feature_importances', ascending=False)\n",
    "\n",
    "print('\\nfeature_importances_df: \\n', feature_importances_df)"
   ]
  },
  {
   "cell_type": "code",
   "execution_count": 49,
   "metadata": {},
   "outputs": [
    {
     "data": {
      "image/png": "[encoded data removed]",
      "text/plain": [
       "<Figure size 864x576 with 1 Axes>"
      ]
     },
     "metadata": {
      "needs_background": "light"
     },
     "output_type": "display_data"
    }
   ],
   "source": [
    "imp = pd.DataFrame(best_clf.feature_importances_, columns=['feature_importances'])\n",
    "imp.sort_values('feature_importances').plot(kind='barh', figsize=(12, 8))\n",
    "plt.show()"
   ]
  },
  {
   "cell_type": "code",
   "execution_count": null,
   "metadata": {},
   "outputs": [],
   "source": []
  }
 ],
 "metadata": {
  "kernelspec": {
   "display_name": "Python 3",
   "language": "python",
   "name": "python3"
  },
  "language_info": {
   "codemirror_mode": {
    "name": "ipython",
    "version": 3
   },
   "file_extension": ".py",
   "mimetype": "text/x-python",
   "name": "python",
   "nbconvert_exporter": "python",
   "pygments_lexer": "ipython3",
   "version": "3.7.6"
  }
 },
 "nbformat": 4,
 "nbformat_minor": 4
}
